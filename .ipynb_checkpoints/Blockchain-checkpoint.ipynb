{
 "cells": [
  {
   "cell_type": "code",
   "execution_count": 42,
   "id": "bf738c2e-0b5d-4713-910d-4b239aa277f8",
   "metadata": {
    "tags": []
   },
   "outputs": [
    {
     "ename": "TypeError",
     "evalue": "unhashable type: 'dict'",
     "output_type": "error",
     "traceback": [
      "\u001b[1;31m---------------------------------------------------------------------------\u001b[0m",
      "\u001b[1;31mTypeError\u001b[0m                                 Traceback (most recent call last)",
      "Cell \u001b[1;32mIn[42], line 67\u001b[0m\n\u001b[0;32m     64\u001b[0m     \u001b[38;5;28mprint\u001b[39m(decrypted_vc)\n\u001b[0;32m     66\u001b[0m \u001b[38;5;28;01mif\u001b[39;00m \u001b[38;5;18m__name__\u001b[39m \u001b[38;5;241m==\u001b[39m \u001b[38;5;124m\"\u001b[39m\u001b[38;5;124m__main__\u001b[39m\u001b[38;5;124m\"\u001b[39m:\n\u001b[1;32m---> 67\u001b[0m     main()\n",
      "Cell \u001b[1;32mIn[42], line 40\u001b[0m, in \u001b[0;36mmain\u001b[1;34m()\u001b[0m\n\u001b[0;32m     38\u001b[0m \u001b[38;5;66;03m# University and student info\u001b[39;00m\n\u001b[0;32m     39\u001b[0m university_did \u001b[38;5;241m=\u001b[39m generate_did()\n\u001b[1;32m---> 40\u001b[0m student_info \u001b[38;5;241m=\u001b[39m {\n\u001b[0;32m     41\u001b[0m     {\n\u001b[0;32m     42\u001b[0m     \u001b[38;5;124m\"\u001b[39m\u001b[38;5;124mid\u001b[39m\u001b[38;5;124m\"\u001b[39m: generate_did(),\n\u001b[0;32m     43\u001b[0m     \u001b[38;5;124m\"\u001b[39m\u001b[38;5;124mname\u001b[39m\u001b[38;5;124m\"\u001b[39m: \u001b[38;5;124m\"\u001b[39m\u001b[38;5;124mJohn Doe\u001b[39m\u001b[38;5;124m\"\u001b[39m,\n\u001b[0;32m     44\u001b[0m     \u001b[38;5;124m\"\u001b[39m\u001b[38;5;124mstudentId\u001b[39m\u001b[38;5;124m\"\u001b[39m: \u001b[38;5;124m\"\u001b[39m\u001b[38;5;124mUNINotts-123456\u001b[39m\u001b[38;5;124m\"\u001b[39m,\n\u001b[0;32m     45\u001b[0m     \u001b[38;5;124m\"\u001b[39m\u001b[38;5;124mcourse\u001b[39m\u001b[38;5;124m\"\u001b[39m: \u001b[38;5;124m\"\u001b[39m\u001b[38;5;124mComputer Science\u001b[39m\u001b[38;5;124m\"\u001b[39m\n\u001b[0;32m     46\u001b[0m \n\u001b[0;32m     47\u001b[0m     },\n\u001b[0;32m     48\u001b[0m     {\n\u001b[0;32m     49\u001b[0m     \u001b[38;5;124m\"\u001b[39m\u001b[38;5;124mid\u001b[39m\u001b[38;5;124m\"\u001b[39m: generate_did(),\n\u001b[0;32m     50\u001b[0m     \u001b[38;5;124m\"\u001b[39m\u001b[38;5;124mname\u001b[39m\u001b[38;5;124m\"\u001b[39m: \u001b[38;5;124m\"\u001b[39m\u001b[38;5;124mJohn Doe\u001b[39m\u001b[38;5;124m\"\u001b[39m,\n\u001b[0;32m     51\u001b[0m     \u001b[38;5;124m\"\u001b[39m\u001b[38;5;124mstudentId\u001b[39m\u001b[38;5;124m\"\u001b[39m: \u001b[38;5;124m\"\u001b[39m\u001b[38;5;124mUNINotts-123456\u001b[39m\u001b[38;5;124m\"\u001b[39m,\n\u001b[0;32m     52\u001b[0m     \u001b[38;5;124m\"\u001b[39m\u001b[38;5;124mcourse\u001b[39m\u001b[38;5;124m\"\u001b[39m: \u001b[38;5;124m\"\u001b[39m\u001b[38;5;124mComputer Science\u001b[39m\u001b[38;5;124m\"\u001b[39m\n\u001b[0;32m     53\u001b[0m     },\n\u001b[0;32m     54\u001b[0m }\n\u001b[0;32m     56\u001b[0m \u001b[38;5;66;03m# Create the VC\u001b[39;00m\n\u001b[0;32m     57\u001b[0m encrypted_vc \u001b[38;5;241m=\u001b[39m create_verifiable_credential(student_info, university_did, key)\n",
      "\u001b[1;31mTypeError\u001b[0m: unhashable type: 'dict'"
     ]
    }
   ],
   "source": [
    "import json\n",
    "import uuid\n",
    "from cryptography.fernet import Fernet\n",
    "\n",
    "# Generate a unique decentralized identifier (DID)\n",
    "def generate_did():\n",
    "    return f\"did:example:{uuid.uuid4()}\"\n",
    "\n",
    "# Encrypt data to simulate cryptographic proof\n",
    "def encrypt_data(data, key):\n",
    "    f = Fernet(key)\n",
    "    encrypted_data = f.encrypt(data.encode())\n",
    "    return encrypted_data\n",
    "\n",
    "# Decrypt data\n",
    "def decrypt_data(encrypted_data, key):\n",
    "    f = Fernet(key)\n",
    "    decrypted_data = f.decrypt(encrypted_data).decode()\n",
    "    return decrypted_data\n",
    "\n",
    "# Create a verifiable credential\n",
    "def create_verifiable_credential(student_info, issuer, key):\n",
    "    credential = {\n",
    "        \"context\": \"https://www.w3.org/2018/credentials/v1\",\n",
    "        \"type\": [\"VerifiableCredential\"],\n",
    "        \"issuer\": issuer,\n",
    "        \"credentialSubject\": student_info,\n",
    "    }\n",
    "    serialized_credential = json.dumps(credential, indent=2)\n",
    "    encrypted_credential = encrypt_data(serialized_credential, key)\n",
    "    return encrypted_credential\n",
    "\n",
    "# Main function to create a DID and VC\n",
    "def main():\n",
    "    # Generate cryptographic key\n",
    "    key = Fernet.generate_key()\n",
    "    \n",
    "    # University and student info\n",
    "    university_did = generate_did()\n",
    "    student_info = [\n",
    "        {\n",
    "        \"id\": generate_did(),\n",
    "        \"name\": \"John Doe\",\n",
    "        \"studentId\": \"UNINotts-123456\",\n",
    "        \"course\": \"Computer Science\"\n",
    "    \n",
    "        },\n",
    "        {\n",
    "        \"id\": generate_did(),\n",
    "        \"name\": \"John Doe\",\n",
    "        \"studentId\": \"UNINotts-123456\",\n",
    "        \"course\": \"Computer Science\"\n",
    "        },\n",
    "    ]\n",
    "\n",
    "    # Create the VC\n",
    "    encrypted_vc = create_verifiable_credential(student_info, university_did, key)\n",
    "    print(\"Encrypted Verifiable Credential:\")\n",
    "    print(encrypted_vc)\n",
    "    \n",
    "    # Decrypting the VC for display\n",
    "    decrypted_vc = decrypt_data(encrypted_vc, key)\n",
    "    print(\"\\nDecrypted Verifiable Credential:\")\n",
    "    print(decrypted_vc)\n",
    "\n",
    "if __name__ == \"__main__\":\n",
    "    main()\n"
   ]
  },
  {
   "cell_type": "code",
   "execution_count": 3,
   "id": "48a7a7f3-bc51-4e61-b414-5c35fd2aaa64",
   "metadata": {
    "tags": []
   },
   "outputs": [],
   "source": [
    "# !pip install qrcode"
   ]
  },
  {
   "cell_type": "code",
   "execution_count": 30,
   "id": "50690349-8fd4-489e-842a-74719cf7bb49",
   "metadata": {
    "tags": []
   },
   "outputs": [
    {
     "name": "stdout",
     "output_type": "stream",
     "text": [
      "Encrypted Verifiable Credential:\n",
      "b'gAAAAABmMqpoiZIvsQIGryBezcnEn0WKLdv38B2TPSy7QHtJqezTHvxBzvPq49wWMFXUIMQNNf0FKHrsg2ZGYNzHOGlMseBv0gdDXWNS96Sib6wlIOWg5vvwaaaNOED1ZzxooY50kfpeKFLuMqkc0E2vi_hfzKsbJtR6E0NPjw-ZLJcVGMh4MrU1JGCJ4otT9fVsSUFT3sjNjZNnvA5WS_NSTDLL2QgTIpZ--buQaVz-YP5c6V3H-E42IwZDaNQiS41r9y01SaIu-vSam3qY6Rq2BMm4BDsQKDI48eRzy8J42a0hHSz5K7C2QwXdO6OLtPxiv3jJihalBj7nAscHs8qPderBUhomi-d0TlTYGQ7GBxPUDNDsA4jct6__nqaRjzptyFr3ygGGTi4iPLEHGNvFPAE60TwrFwHaxzKzP6V172BAQ_okVbkATog3Lh-hlJxb4yGeSvRrvydCFFsvXfDYDVQWzL-oFMAMqDMBJj4QWsqZLz-G4GxmqjK-Yvxq2oacaliQCliYFUM5yW7FDsP9BO0EIACe8w=='\n",
      "\n",
      "Decrypted Verifiable Credential:\n",
      "{\n",
      "  \"context\": \"https://www.w3.org/2018/credentials/v1\",\n",
      "  \"type\": [\n",
      "    \"VerifiableCredential\"\n",
      "  ],\n",
      "  \"issuer\": \"did:example:bbe7131f-b73b-4999-9a06-7727b0521397\",\n",
      "  \"credentialSubject\": {\n",
      "    \"id\": \"did:example:6536ae2f-49d7-4200-8aa9-2a9fc1c7226e\",\n",
      "    \"name\": \"John Doe\",\n",
      "    \"studentId\": \"UNINotts-123456\",\n",
      "    \"course\": \"Computer Science\"\n",
      "  }\n",
      "}\n",
      "QR code generated and saved as did_qr_code.png\n"
     ]
    }
   ],
   "source": [
    "import json\n",
    "import uuid\n",
    "import qrcode\n",
    "from cryptography.fernet import Fernet\n",
    "\n",
    "# Generate a unique decentralized identifier (DID)\n",
    "def generate_did():\n",
    "    return f\"did:example:{uuid.uuid4()}\"\n",
    "\n",
    "# Encrypt data to simulate cryptographic proof\n",
    "def encrypt_data(data, key):\n",
    "    f = Fernet(key)\n",
    "    encrypted_data = f.encrypt(data.encode())\n",
    "    return encrypted_data\n",
    "\n",
    "# Decrypt data\n",
    "def decrypt_data(encrypted_data, key):\n",
    "    f = Fernet(key)\n",
    "    decrypted_data = f.decrypt(encrypted_data).decode()\n",
    "    return decrypted_data\n",
    "\n",
    "# Create a verifiable credential\n",
    "def create_verifiable_credential(student_info, issuer, key):\n",
    "    credential = {\n",
    "        \"context\": \"https://www.w3.org/2018/credentials/v1\",\n",
    "        \"type\": [\"VerifiableCredential\"],\n",
    "        \"issuer\": issuer,\n",
    "        \"credentialSubject\": student_info,\n",
    "    }\n",
    "    serialized_credential = json.dumps(credential, indent=2)\n",
    "    encrypted_credential = encrypt_data(serialized_credential, key)\n",
    "    return encrypted_credential\n",
    "\n",
    "# Generate QR Code for any text\n",
    "def generate_qr_code(data):\n",
    "    qr = qrcode.QRCode(\n",
    "        version=1,\n",
    "        error_correction=qrcode.constants.ERROR_CORRECT_L,\n",
    "        box_size=10,\n",
    "        border=4,\n",
    "    )\n",
    "    qr.add_data(data)\n",
    "    qr.make(fit=True)\n",
    "    img = qr.make_image(fill_color=\"black\", back_color=\"white\")\n",
    "    img.save(\"did_qr_code.png\")  # Saving the QR code to a file\n",
    "    return \"QR code generated and saved as did_qr_code.png\"\n",
    "\n",
    "# Main function to create a DID and VC\n",
    "def main():\n",
    "    # Generate cryptographic key\n",
    "    key = Fernet.generate_key()\n",
    "    \n",
    "    # University and student info\n",
    "    university_did = generate_did()\n",
    "    student_info = {\n",
    "        \"id\": generate_did(),\n",
    "        \"name\": \"John Doe\",\n",
    "        \"studentId\": \"UNINotts-123456\",\n",
    "        \"course\": \"Computer Science\"\n",
    "    }\n",
    "\n",
    "    # Create the VC\n",
    "    encrypted_vc = create_verifiable_credential(student_info, university_did, key)\n",
    "    print(\"Encrypted Verifiable Credential:\")\n",
    "    print(encrypted_vc)\n",
    "    \n",
    "    # Decrypting the VC for display\n",
    "    decrypted_vc = decrypt_data(encrypted_vc, key)\n",
    "    print(\"\\nDecrypted Verifiable Credential:\")\n",
    "    print(decrypted_vc) \n",
    "\n",
    "    # Generate QR Code for the DID\n",
    "    qr_code_message = generate_qr_code(json.dumps(student_info))\n",
    "    print(qr_code_message)\n",
    "\n",
    "if __name__ == \"__main__\":\n",
    "    main()\n"
   ]
  },
  {
   "cell_type": "code",
   "execution_count": 31,
   "id": "c4532220-2aae-48d8-9c94-f4ad6b7575c4",
   "metadata": {
    "tags": []
   },
   "outputs": [
    {
     "name": "stdout",
     "output_type": "stream",
     "text": [
      "Encrypted Verifiable Credential:\n",
      "b'gAAAAABmMqpy8DUgodmpXdWgZLRc92hCzR1P6I-5qqw3mc9Ck74qlo4F-4uvM_77D3NDUvEh41zGIG4GHM8iAy7fVO1VObg7CkETY604Y7w8XB9Zb4bLfqIgZ9kyFSUXNqRL91F8zPJY81v9goyBjUm1_6Ya37XjoRJf0bDFYcSS-rnXAlshUklPhvKn3kAt883O9anuAw9cM8pL88JsAOVDC7FKHnMVfwZiysSQp6FN-6JL6i2YxOULfzYq1B3amWQoxFc_3jdpDhgFE582xBWDdzw-bRw9D1HMsygLOzGU5hZUe_FC_kird5bERASEBBjMsY9VjsjTSbzE94sKZO9YFW-EQ3cIJPhyeYt21RFcr0B01onlqlFUYrU7SGlLI5i_dNHzIcHz_1TNstqSVRVFS98_BHOPgySw9wIkYW09Io9z9DiNvEx6kXc7gzr_RKSeFQ37309YOp-s6h8BFD3uSkLWWr5873_1pCQ6p1lxHw6EW8E1WmsdLVcNjCEUE-j6FbH-J6RHWRdJa-DEMQTa_f0lcEe03A=='\n",
      "\n",
      "Decrypted Verifiable Credential:\n",
      "{\n",
      "  \"context\": \"https://www.w3.org/2018/credentials/v1\",\n",
      "  \"type\": [\n",
      "    \"VerifiableCredential\"\n",
      "  ],\n",
      "  \"issuer\": \"did:example:975de2a3-e0e6-4775-9ea2-d758fe3a2277\",\n",
      "  \"credentialSubject\": {\n",
      "    \"id\": \"did:example:496d8f01-14bc-440d-b7cf-00e9895c01ef\",\n",
      "    \"name\": \"John Doe\",\n",
      "    \"studentId\": \"UNINotts-123456\",\n",
      "    \"course\": \"Computer Science\"\n",
      "  }\n",
      "}\n"
     ]
    }
   ],
   "source": [
    "# Generate cryptographic key\n",
    "key = Fernet.generate_key()\n",
    "\n",
    "# University and student info\n",
    "university_did = generate_did()\n",
    "student_info = {\n",
    "    \"id\": generate_did(),\n",
    "    \"name\": \"John Doe\",\n",
    "    \"studentId\": \"UNINotts-123456\",\n",
    "    \"course\": \"Computer Science\"\n",
    "}\n",
    "\n",
    "# Create the VC\n",
    "encrypted_vc = create_verifiable_credential(student_info, university_did, key)\n",
    "print(\"Encrypted Verifiable Credential:\")\n",
    "print(encrypted_vc)\n",
    "\n",
    "# Decrypting the VC for display\n",
    "decrypted_vc = decrypt_data(encrypted_vc, key)\n",
    "print(\"\\nDecrypted Verifiable Credential:\")\n",
    "print(decrypted_vc) "
   ]
  },
  {
   "cell_type": "code",
   "execution_count": 32,
   "id": "2737ec22-e2e1-442d-8558-93554eda309f",
   "metadata": {
    "tags": []
   },
   "outputs": [
    {
     "data": {
      "text/plain": [
       "b'gAAAAABmMqpy8DUgodmpXdWgZLRc92hCzR1P6I-5qqw3mc9Ck74qlo4F-4uvM_77D3NDUvEh41zGIG4GHM8iAy7fVO1VObg7CkETY604Y7w8XB9Zb4bLfqIgZ9kyFSUXNqRL91F8zPJY81v9goyBjUm1_6Ya37XjoRJf0bDFYcSS-rnXAlshUklPhvKn3kAt883O9anuAw9cM8pL88JsAOVDC7FKHnMVfwZiysSQp6FN-6JL6i2YxOULfzYq1B3amWQoxFc_3jdpDhgFE582xBWDdzw-bRw9D1HMsygLOzGU5hZUe_FC_kird5bERASEBBjMsY9VjsjTSbzE94sKZO9YFW-EQ3cIJPhyeYt21RFcr0B01onlqlFUYrU7SGlLI5i_dNHzIcHz_1TNstqSVRVFS98_BHOPgySw9wIkYW09Io9z9DiNvEx6kXc7gzr_RKSeFQ37309YOp-s6h8BFD3uSkLWWr5873_1pCQ6p1lxHw6EW8E1WmsdLVcNjCEUE-j6FbH-J6RHWRdJa-DEMQTa_f0lcEe03A=='"
      ]
     },
     "execution_count": 32,
     "metadata": {},
     "output_type": "execute_result"
    }
   ],
   "source": [
    "encrypted_vc"
   ]
  },
  {
   "cell_type": "code",
   "execution_count": 33,
   "id": "150c9b59-4c0f-4211-b864-ad5b25369687",
   "metadata": {
    "tags": []
   },
   "outputs": [],
   "source": [
    "test = json.dumps(student_info)"
   ]
  },
  {
   "cell_type": "code",
   "execution_count": 34,
   "id": "5d498506-c5bd-466c-b057-73d42106d089",
   "metadata": {
    "tags": []
   },
   "outputs": [],
   "source": [
    "qr = qrcode.QRCode(\n",
    "    version=1,\n",
    "    error_correction=qrcode.constants.ERROR_CORRECT_L,\n",
    "    box_size=10,\n",
    "    border=4,\n",
    ")\n",
    "qr.add_data(encrypted_vc)\n",
    "qr.make(fit=True)\n",
    "img = qr.make_image(fill_color=\"black\", back_color=\"white\")\n",
    "img.save(\"test/did_qr_code.png\")  # Saving the QR code to a file"
   ]
  },
  {
   "cell_type": "code",
   "execution_count": 9,
   "id": "4a0ac3d8-0cd2-4ca7-9cbc-033027785970",
   "metadata": {
    "tags": []
   },
   "outputs": [
    {
     "name": "stdout",
     "output_type": "stream",
     "text": [
      "QR code generated and saved as did_qr_code.png\n"
     ]
    }
   ],
   "source": [
    "# Generate QR Code for the DID\n",
    "qr_code_message = generate_qr_code(encrypted_vc)\n",
    "print(qr_code_message)"
   ]
  },
  {
   "cell_type": "code",
   "execution_count": 10,
   "id": "f0dfb9e6-45d2-4a0e-b606-f959f3d7a31a",
   "metadata": {
    "tags": []
   },
   "outputs": [],
   "source": [
    "from cryptography.fernet import Fernet\n",
    "\n",
    "def verify_credential(encrypted_credential, key):\n",
    "    try:\n",
    "        f = Fernet(key)\n",
    "        decrypted_data = f.decrypt(encrypted_credential).decode()\n",
    "        credential = json.loads(decrypted_data)\n",
    "        \n",
    "        # Check for validity, integrity, authenticity\n",
    "        if verify_signature(credential):\n",
    "            print(\"Credential is valid and authentic.\")\n",
    "            return credential\n",
    "        else:\n",
    "            print(\"Invalid signature. Credential could be tampered with.\")\n",
    "    except Exception as e:\n",
    "        print(f\"Error during verification: {str(e)}\")\n",
    "\n",
    "def verify_signature(credential):\n",
    "    # Dummy function for signature verification\n",
    "    return True  # In real implementation, you would check the digital signature here\n",
    "\n",
    "# Example usage:\n",
    "# Assume `encrypted_credential` is what you retrieved and decrypted from the database after scanning the QR\n",
    "# `key` is the Fernet key used for decryption\n",
    "# decrypted_credential = verify_credential(encrypted_credential, key)\n"
   ]
  },
  {
   "cell_type": "code",
   "execution_count": null,
   "id": "ebf84124-f04b-47dd-9a5f-5ba2377edfb3",
   "metadata": {},
   "outputs": [],
   "source": []
  },
  {
   "cell_type": "code",
   "execution_count": null,
   "id": "67f9ce99-251b-4180-9add-ee61afadeaf4",
   "metadata": {},
   "outputs": [],
   "source": []
  },
  {
   "cell_type": "code",
   "execution_count": null,
   "id": "3e62d39f-6efb-445f-b526-971a2d0256e9",
   "metadata": {},
   "outputs": [],
   "source": []
  },
  {
   "cell_type": "markdown",
   "id": "3df66bf0-6702-470f-b172-b9110a6c0f21",
   "metadata": {},
   "source": [
    "### Reading qr code"
   ]
  },
  {
   "cell_type": "code",
   "execution_count": 11,
   "id": "38e011d4-941a-47eb-9b19-5417fbebd069",
   "metadata": {
    "tags": []
   },
   "outputs": [],
   "source": [
    "# !pip install pillow"
   ]
  },
  {
   "cell_type": "code",
   "execution_count": 12,
   "id": "728528f7-be75-42b1-8051-2ddeb75cb2aa",
   "metadata": {
    "tags": []
   },
   "outputs": [],
   "source": [
    "# !pip install opencv-python"
   ]
  },
  {
   "cell_type": "code",
   "execution_count": 13,
   "id": "71605d54-0229-47bc-a4c2-9ce94f6f60b8",
   "metadata": {
    "tags": []
   },
   "outputs": [],
   "source": [
    "# !pip install pyzbar"
   ]
  },
  {
   "cell_type": "code",
   "execution_count": 36,
   "id": "78d1fdac-54d6-4bf3-855b-a34c26ac646b",
   "metadata": {
    "tags": []
   },
   "outputs": [],
   "source": [
    "import cv2\n",
    "from pyzbar import pyzbar"
   ]
  },
  {
   "cell_type": "code",
   "execution_count": 37,
   "id": "b74a22e4-ccc5-4b62-8318-8b484526f8d9",
   "metadata": {
    "tags": []
   },
   "outputs": [],
   "source": [
    "trial_img= cv2.imread('test/did_qr_code.png')"
   ]
  },
  {
   "cell_type": "code",
   "execution_count": 38,
   "id": "38c64955-4aaf-46e6-9b43-b2c301ad6424",
   "metadata": {
    "tags": []
   },
   "outputs": [],
   "source": [
    "qcd = cv2.QRCodeDetector()"
   ]
  },
  {
   "cell_type": "code",
   "execution_count": 39,
   "id": "10960987-8e26-4c86-94eb-8e4e8d69c381",
   "metadata": {
    "tags": []
   },
   "outputs": [],
   "source": [
    "data, bbox, _ = qcd.detectAndDecode(trial_img)"
   ]
  },
  {
   "cell_type": "code",
   "execution_count": 40,
   "id": "dde5a0bd-a9e6-43a6-8641-ba82d51956e4",
   "metadata": {},
   "outputs": [
    {
     "data": {
      "text/plain": [
       "'gAAAAABmMqpy8DUgodmpXdWgZLRc92hCzR1P6I-5qqw3mc9Ck74qlo4F-4uvM_77D3NDUvEh41zGIG4GHM8iAy7fVO1VObg7CkETY604Y7w8XB9Zb4bLfqIgZ9kyFSUXNqRL91F8zPJY81v9goyBjUm1_6Ya37XjoRJf0bDFYcSS-rnXAlshUklPhvKn3kAt883O9anuAw9cM8pL88JsAOVDC7FKHnMVfwZiysSQp6FN-6JL6i2YxOULfzYq1B3amWQoxFc_3jdpDhgFE582xBWDdzw-bRw9D1HMsygLOzGU5hZUe_FC_kird5bERASEBBjMsY9VjsjTSbzE94sKZO9YFW-EQ3cIJPhyeYt21RFcr0B01onlqlFUYrU7SGlLI5i_dNHzIcHz_1TNstqSVRVFS98_BHOPgySw9wIkYW09Io9z9DiNvEx6kXc7gzr_RKSeFQ37309YOp-s6h8BFD3uSkLWWr5873_1pCQ6p1lxHw6EW8E1WmsdLVcNjCEUE-j6FbH-J6RHWRdJa-DEMQTa_f0lcEe03A=='"
      ]
     },
     "execution_count": 40,
     "metadata": {},
     "output_type": "execute_result"
    }
   ],
   "source": [
    "data"
   ]
  },
  {
   "cell_type": "code",
   "execution_count": 41,
   "id": "7187c71e-a171-4317-8964-06c2ca878755",
   "metadata": {
    "tags": []
   },
   "outputs": [
    {
     "name": "stdout",
     "output_type": "stream",
     "text": [
      "\n",
      "Decrypted Verifiable Credential:\n",
      "{\n",
      "  \"context\": \"https://www.w3.org/2018/credentials/v1\",\n",
      "  \"type\": [\n",
      "    \"VerifiableCredential\"\n",
      "  ],\n",
      "  \"issuer\": \"did:example:975de2a3-e0e6-4775-9ea2-d758fe3a2277\",\n",
      "  \"credentialSubject\": {\n",
      "    \"id\": \"did:example:496d8f01-14bc-440d-b7cf-00e9895c01ef\",\n",
      "    \"name\": \"John Doe\",\n",
      "    \"studentId\": \"UNINotts-123456\",\n",
      "    \"course\": \"Computer Science\"\n",
      "  }\n",
      "}\n"
     ]
    }
   ],
   "source": [
    "# Decrypting the VC for display\n",
    "decrypted_vc = decrypt_data(data, key)\n",
    "print(\"\\nDecrypted Verifiable Credential:\")\n",
    "print(decrypted_vc) "
   ]
  },
  {
   "cell_type": "code",
   "execution_count": null,
   "id": "a4725e9f-9557-41e0-a246-169b913f8cd9",
   "metadata": {},
   "outputs": [],
   "source": []
  },
  {
   "cell_type": "code",
   "execution_count": null,
   "id": "8464f31e-9ad9-45b5-824f-23febff6370e",
   "metadata": {},
   "outputs": [],
   "source": []
  },
  {
   "cell_type": "code",
   "execution_count": null,
   "id": "f5ec2bf4-e9ae-4272-8def-b58f006db5d9",
   "metadata": {
    "tags": []
   },
   "outputs": [],
   "source": [
    "retval, decoded_info, points, straight_qrcode = qcd.detectAndDecodeMulti(trial_img)"
   ]
  },
  {
   "cell_type": "code",
   "execution_count": null,
   "id": "e430c77b-1ebc-47bd-ab51-82179a446512",
   "metadata": {
    "tags": []
   },
   "outputs": [
    {
     "data": {
      "text/plain": [
       "True"
      ]
     },
     "execution_count": 25,
     "metadata": {},
     "output_type": "execute_result"
    }
   ],
   "source": [
    "retval"
   ]
  },
  {
   "cell_type": "code",
   "execution_count": null,
   "id": "0ba9d45d-23ff-401d-ac0d-5293c340c36b",
   "metadata": {
    "tags": []
   },
   "outputs": [
    {
     "data": {
      "text/plain": [
       "('gAAAAABmMqijUsYYHYbYf8vWH_kU0QRputEBoYCuEvqx4aSL2AfUsoH0MaCRxPk0Oi85mLoLoKppp7qGoNAgbbNgLW-8R_bXZX1FsufT8RdqwBsjDUv1p7fz0wHX6qNEMzkoeXXk4j_JyYi_LSrqmIYfGFuXMNXEfudg5Vly95t0aNfnoUm65Y7yyGj38_5Ci_9nLhpy5fehhzghNaghtBTQ6GrwIfcxQmFEWYXepY2tHLqTNDYeFvJe7CaINE29A-5AegmNgYtCLeiPijCcf2alRGtJv7u6aoRORQAVkinlIIGxEuwd9szrWd_TzNBNfIDWvdr0_XTZYY_7b638XCi5t56Bkkytv5x9klA7cSjIOy3gUjPBegcozH2DPq-OgBunROq4h4UBjGZmsksLDVTTdiaVidH_P7-gep9PDsZDwO1Dgcrex08VUgMDI-ZHc0a8L005p4MC3dylvAMnkn7DI2kO4CwQfTNJiZYCjcpgGDYUZYypxq0Rrm3K6YM6x2m7mSxtkzT6NC5UIkja3f40_82WzBNTMg==',)"
      ]
     },
     "execution_count": 26,
     "metadata": {},
     "output_type": "execute_result"
    }
   ],
   "source": [
    "decoded_info"
   ]
  }
 ],
 "metadata": {
  "kernelspec": {
   "display_name": "Python 3 (ipykernel)",
   "language": "python",
   "name": "python3"
  },
  "language_info": {
   "codemirror_mode": {
    "name": "ipython",
    "version": 3
   },
   "file_extension": ".py",
   "mimetype": "text/x-python",
   "name": "python",
   "nbconvert_exporter": "python",
   "pygments_lexer": "ipython3",
   "version": "3.11.5"
  }
 },
 "nbformat": 4,
 "nbformat_minor": 5
}
