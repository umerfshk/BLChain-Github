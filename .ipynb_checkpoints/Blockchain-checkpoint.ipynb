{
 "cells": [
  {
   "cell_type": "code",
   "execution_count": 1,
   "id": "bf738c2e-0b5d-4713-910d-4b239aa277f8",
   "metadata": {
    "tags": []
   },
   "outputs": [
    {
     "name": "stdout",
     "output_type": "stream",
     "text": [
      "Encrypted Verifiable Credential:\n",
      "b'gAAAAABmMl3sYrpj9pqZTcjPctg7ILmekIgOwgTavepcKz4aSZpjOtSjb-GmdwG8yhyoGDOJHCRZ-FBhJ5e3oPMM2sD6g6BWdZXmG7KlXlxLEpyvVRBaQOMPTMY6TvCScTyg5luPWMyT64G5JhBjszoRWsPtMwUlJaF-aa9pQATP_H5Tgb5CTcnGpW8-FlkR95kbGjbY_duMzu599YtUXHSieJhXRB22yyfkqiVK0xlhkTLQ9hMRwmXora3UZ4tP9qxc7QnK2gXEKA12aYzhJTIs_ORNeTyCwokqXMHTOj6WvEHeNAbZCOqQ3ALpb-pVgjXr1EvZhOXNAzTQW-C6OEqAyxH5d7Ti55fFL67_eeTlKLJyF4aXjtQOtgBHZynMaFks6LlD0b8vMaHmW9xaT9keJ1kGcDe7HQhmqGZEjR0w0lHd_L-RsjUCZbkgKimFEjVI2Fylk1cE53RwFvohTXOxshaWx5cTZJAszL-zsl1jS5A-nOfMZVS9vU9qOXbKQYWTPEmHnCwz7Gs0ItkWltp_-K03fuQoJw=='\n",
      "\n",
      "Decrypted Verifiable Credential:\n",
      "{\n",
      "  \"context\": \"https://www.w3.org/2018/credentials/v1\",\n",
      "  \"type\": [\n",
      "    \"VerifiableCredential\"\n",
      "  ],\n",
      "  \"issuer\": \"did:example:a27e7167-a16c-4e6e-a2f1-4419e866b067\",\n",
      "  \"credentialSubject\": {\n",
      "    \"id\": \"did:example:eb971b45-dbc4-4572-ba13-574a340e7f7f\",\n",
      "    \"name\": \"John Doe\",\n",
      "    \"studentId\": \"UNINotts-123456\",\n",
      "    \"course\": \"Computer Science\"\n",
      "  }\n",
      "}\n"
     ]
    }
   ],
   "source": [
    "import json\n",
    "import uuid\n",
    "from cryptography.fernet import Fernet\n",
    "\n",
    "# Generate a unique decentralized identifier (DID)\n",
    "def generate_did():\n",
    "    return f\"did:example:{uuid.uuid4()}\"\n",
    "\n",
    "# Encrypt data to simulate cryptographic proof\n",
    "def encrypt_data(data, key):\n",
    "    f = Fernet(key)\n",
    "    encrypted_data = f.encrypt(data.encode())\n",
    "    return encrypted_data\n",
    "\n",
    "# Decrypt data\n",
    "def decrypt_data(encrypted_data, key):\n",
    "    f = Fernet(key)\n",
    "    decrypted_data = f.decrypt(encrypted_data).decode()\n",
    "    return decrypted_data\n",
    "\n",
    "# Create a verifiable credential\n",
    "def create_verifiable_credential(student_info, issuer, key):\n",
    "    credential = {\n",
    "        \"context\": \"https://www.w3.org/2018/credentials/v1\",\n",
    "        \"type\": [\"VerifiableCredential\"],\n",
    "        \"issuer\": issuer,\n",
    "        \"credentialSubject\": student_info,\n",
    "    }\n",
    "    serialized_credential = json.dumps(credential, indent=2)\n",
    "    encrypted_credential = encrypt_data(serialized_credential, key)\n",
    "    return encrypted_credential\n",
    "\n",
    "# Main function to create a DID and VC\n",
    "def main():\n",
    "    # Generate cryptographic key\n",
    "    key = Fernet.generate_key()\n",
    "    \n",
    "    # University and student info\n",
    "    university_did = generate_did()\n",
    "    student_info = {\n",
    "        \"id\": generate_did(),\n",
    "        \"name\": \"John Doe\",\n",
    "        \"studentId\": \"UNINotts-123456\",\n",
    "        \"course\": \"Computer Science\"\n",
    "    }\n",
    "\n",
    "    # Create the VC\n",
    "    encrypted_vc = create_verifiable_credential(student_info, university_did, key)\n",
    "    print(\"Encrypted Verifiable Credential:\")\n",
    "    print(encrypted_vc)\n",
    "    \n",
    "    # Decrypting the VC for display\n",
    "    decrypted_vc = decrypt_data(encrypted_vc, key)\n",
    "    print(\"\\nDecrypted Verifiable Credential:\")\n",
    "    print(decrypted_vc)\n",
    "\n",
    "if __name__ == \"__main__\":\n",
    "    main()\n"
   ]
  },
  {
   "cell_type": "code",
   "execution_count": 4,
   "id": "48a7a7f3-bc51-4e61-b414-5c35fd2aaa64",
   "metadata": {
    "tags": []
   },
   "outputs": [],
   "source": [
    "# !pip install qrcode"
   ]
  },
  {
   "cell_type": "code",
   "execution_count": 22,
   "id": "50690349-8fd4-489e-842a-74719cf7bb49",
   "metadata": {
    "tags": []
   },
   "outputs": [
    {
     "name": "stdout",
     "output_type": "stream",
     "text": [
      "Encrypted Verifiable Credential:\n",
      "b'gAAAAABmMmY3h1HFSBHDvgVlHbywuEehMzDEIGHYARc8a3hx-T3MCTDmazCbqXSi7xmwYp-G5TCTYdq4LlhQ_c4r-niBiCjG8HvknAWUTx8cRmr_bsimkFvlwkmtuIvFFmY09dXcEAA58o9uVJ5A-wAT2HSj6O_xqdG9iFWfPrAk-Hbo4O1Ws0_1zxS-9QTbErKGhMrG3pjc7amGpE4ATlJXXwj1vmBrQNQ_QeHL0ZdhTABkBI2wlOj34HY_V1NWc3P7nVyXM0kJqT5KQbHQt6Sh9NUkNPNO56AEXLqQaGMEgLk0m6eettH_kD3yTKhoUeIJJiXHAzgk1lLMfdswxu3ayA5JPLJ7VFJeTOmDcLGcBNndHJ1SOiCsV4hqb2MGMBTPJN7MjDzh3S9N1_ypzTAlkl0Gps7exrj6fIJQpZ5GT2shzPD1zhpm0OyBhFQKMNd1c-XNXOwqLnkEk8x-MgEekt-xTarL5_NWOfInCc_x5bufT5AqbfZQXROVc7gjd9yH1Xq8OnMQ85Ybk1uyIl9jbkkNNy5zQQ=='\n",
      "\n",
      "Decrypted Verifiable Credential:\n",
      "{\n",
      "  \"context\": \"https://www.w3.org/2018/credentials/v1\",\n",
      "  \"type\": [\n",
      "    \"VerifiableCredential\"\n",
      "  ],\n",
      "  \"issuer\": \"did:example:397c1a91-ba42-4c4c-9da4-8617260c193e\",\n",
      "  \"credentialSubject\": {\n",
      "    \"id\": \"did:example:c007e18a-1ade-4893-9a19-bcfb3eb71538\",\n",
      "    \"name\": \"John Doe\",\n",
      "    \"studentId\": \"UNINotts-123456\",\n",
      "    \"course\": \"Computer Science\"\n",
      "  }\n",
      "}\n",
      "QR code generated and saved as did_qr_code.png\n"
     ]
    }
   ],
   "source": [
    "import json\n",
    "import uuid\n",
    "import qrcode\n",
    "from cryptography.fernet import Fernet\n",
    "\n",
    "# Generate a unique decentralized identifier (DID)\n",
    "def generate_did():\n",
    "    return f\"did:example:{uuid.uuid4()}\"\n",
    "\n",
    "# Encrypt data to simulate cryptographic proof\n",
    "def encrypt_data(data, key):\n",
    "    f = Fernet(key)\n",
    "    encrypted_data = f.encrypt(data.encode())\n",
    "    return encrypted_data\n",
    "\n",
    "# Decrypt data\n",
    "def decrypt_data(encrypted_data, key):\n",
    "    f = Fernet(key)\n",
    "    decrypted_data = f.decrypt(encrypted_data).decode()\n",
    "    return decrypted_data\n",
    "\n",
    "# Create a verifiable credential\n",
    "def create_verifiable_credential(student_info, issuer, key):\n",
    "    credential = {\n",
    "        \"context\": \"https://www.w3.org/2018/credentials/v1\",\n",
    "        \"type\": [\"VerifiableCredential\"],\n",
    "        \"issuer\": issuer,\n",
    "        \"credentialSubject\": student_info,\n",
    "    }\n",
    "    serialized_credential = json.dumps(credential, indent=2)\n",
    "    encrypted_credential = encrypt_data(serialized_credential, key)\n",
    "    return encrypted_credential\n",
    "\n",
    "# Generate QR Code for any text\n",
    "def generate_qr_code(data):\n",
    "    qr = qrcode.QRCode(\n",
    "        version=1,\n",
    "        error_correction=qrcode.constants.ERROR_CORRECT_L,\n",
    "        box_size=10,\n",
    "        border=4,\n",
    "    )\n",
    "    qr.add_data(data)\n",
    "    qr.make(fit=True)\n",
    "    img = qr.make_image(fill_color=\"black\", back_color=\"white\")\n",
    "    img.save(\"did_qr_code.png\")  # Saving the QR code to a file\n",
    "    return \"QR code generated and saved as did_qr_code.png\"\n",
    "\n",
    "# Main function to create a DID and VC\n",
    "def main():\n",
    "    # Generate cryptographic key\n",
    "    key = Fernet.generate_key()\n",
    "    \n",
    "    # University and student info\n",
    "    university_did = generate_did()\n",
    "    student_info = {\n",
    "        \"id\": generate_did(),\n",
    "        \"name\": \"John Doe\",\n",
    "        \"studentId\": \"UNINotts-123456\",\n",
    "        \"course\": \"Computer Science\"\n",
    "    }\n",
    "\n",
    "    # Create the VC\n",
    "    encrypted_vc = create_verifiable_credential(student_info, university_did, key)\n",
    "    print(\"Encrypted Verifiable Credential:\")\n",
    "    print(encrypted_vc)\n",
    "    \n",
    "    # Decrypting the VC for display\n",
    "    decrypted_vc = decrypt_data(encrypted_vc, key)\n",
    "    print(\"\\nDecrypted Verifiable Credential:\")\n",
    "    print(decrypted_vc) \n",
    "\n",
    "    # Generate QR Code for the DID\n",
    "    qr_code_message = generate_qr_code(json.dumps(student_info))\n",
    "    print(qr_code_message)\n",
    "\n",
    "if __name__ == \"__main__\":\n",
    "    main()\n"
   ]
  },
  {
   "cell_type": "code",
   "execution_count": 23,
   "id": "c4532220-2aae-48d8-9c94-f4ad6b7575c4",
   "metadata": {
    "tags": []
   },
   "outputs": [
    {
     "name": "stdout",
     "output_type": "stream",
     "text": [
      "Encrypted Verifiable Credential:\n",
      "b'gAAAAABmMmaYxvjpeQH189slF__jk5PbUBkEMPJByuYOY4jKXTx-9-IHmFZ6Bm741dGGHFZaY3_jATtntnhAjNo-_tT-Fk4Je52VP0Fbd23vou2a4Xt-sP38KVYY_Bn2RK3VEo4SOEipkdPAlhw3I3A_54L1KK6zgfP6ZlEqObQhTTeUjdfeTTH68YFVdh09OY-ScuYzOTKm9zCbD95AdWTXchwzF2Z0RUDvXaa9p56Qx6jT_4I7nSZ1UqvF8lt411Kkqg0pN7CemUFlwuf-t9cvsmw6gXoojyyMfxol1jm6YmBRyObzZ6Uz3lKRXfuxNXM2R2En1RDB2L1Zg1v_3wjpgLw4C1pCntl4WH-0jTMcctMk0Awh1BYYJlm5oj0mSgrjFo9JYUlxvxZSQk_nVV0GwPXjNnyGx43m7iAoiZkzl3pnNvpi8IpAAdQNoCXhlB0ra9c-YxWxn2ToN5q9YY_K1-rrI7IdIFWKUS8fCmHjk4kpNU2jyWL7nuQQFdYvlYPqdlyZieEwJlIDfocu9V6pJEcVHLwp1w=='\n",
      "\n",
      "Decrypted Verifiable Credential:\n",
      "{\n",
      "  \"context\": \"https://www.w3.org/2018/credentials/v1\",\n",
      "  \"type\": [\n",
      "    \"VerifiableCredential\"\n",
      "  ],\n",
      "  \"issuer\": \"did:example:8e3043c1-c5fd-4a5a-8ab8-ebef09abb1e0\",\n",
      "  \"credentialSubject\": {\n",
      "    \"id\": \"did:example:c51113d4-ad45-4898-8e72-fec6d0cbbcd1\",\n",
      "    \"name\": \"John Doe\",\n",
      "    \"studentId\": \"UNINotts-123456\",\n",
      "    \"course\": \"Computer Science\"\n",
      "  }\n",
      "}\n"
     ]
    }
   ],
   "source": [
    "# Generate cryptographic key\n",
    "key = Fernet.generate_key()\n",
    "\n",
    "# University and student info\n",
    "university_did = generate_did()\n",
    "student_info = {\n",
    "    \"id\": generate_did(),\n",
    "    \"name\": \"John Doe\",\n",
    "    \"studentId\": \"UNINotts-123456\",\n",
    "    \"course\": \"Computer Science\"\n",
    "}\n",
    "\n",
    "# Create the VC\n",
    "encrypted_vc = create_verifiable_credential(student_info, university_did, key)\n",
    "print(\"Encrypted Verifiable Credential:\")\n",
    "print(encrypted_vc)\n",
    "\n",
    "# Decrypting the VC for display\n",
    "decrypted_vc = decrypt_data(encrypted_vc, key)\n",
    "print(\"\\nDecrypted Verifiable Credential:\")\n",
    "print(decrypted_vc) "
   ]
  },
  {
   "cell_type": "code",
   "execution_count": 41,
   "id": "2737ec22-e2e1-442d-8558-93554eda309f",
   "metadata": {
    "tags": []
   },
   "outputs": [
    {
     "data": {
      "text/plain": [
       "b'gAAAAABmMmaYxvjpeQH189slF__jk5PbUBkEMPJByuYOY4jKXTx-9-IHmFZ6Bm741dGGHFZaY3_jATtntnhAjNo-_tT-Fk4Je52VP0Fbd23vou2a4Xt-sP38KVYY_Bn2RK3VEo4SOEipkdPAlhw3I3A_54L1KK6zgfP6ZlEqObQhTTeUjdfeTTH68YFVdh09OY-ScuYzOTKm9zCbD95AdWTXchwzF2Z0RUDvXaa9p56Qx6jT_4I7nSZ1UqvF8lt411Kkqg0pN7CemUFlwuf-t9cvsmw6gXoojyyMfxol1jm6YmBRyObzZ6Uz3lKRXfuxNXM2R2En1RDB2L1Zg1v_3wjpgLw4C1pCntl4WH-0jTMcctMk0Awh1BYYJlm5oj0mSgrjFo9JYUlxvxZSQk_nVV0GwPXjNnyGx43m7iAoiZkzl3pnNvpi8IpAAdQNoCXhlB0ra9c-YxWxn2ToN5q9YY_K1-rrI7IdIFWKUS8fCmHjk4kpNU2jyWL7nuQQFdYvlYPqdlyZieEwJlIDfocu9V6pJEcVHLwp1w=='"
      ]
     },
     "execution_count": 41,
     "metadata": {},
     "output_type": "execute_result"
    }
   ],
   "source": [
    "encrypted_vc"
   ]
  },
  {
   "cell_type": "code",
   "execution_count": 35,
   "id": "150c9b59-4c0f-4211-b864-ad5b25369687",
   "metadata": {
    "tags": []
   },
   "outputs": [],
   "source": [
    "test = json.dumps(student_info)"
   ]
  },
  {
   "cell_type": "code",
   "execution_count": 42,
   "id": "5d498506-c5bd-466c-b057-73d42106d089",
   "metadata": {
    "tags": []
   },
   "outputs": [],
   "source": [
    "qr = qrcode.QRCode(\n",
    "    version=1,\n",
    "    error_correction=qrcode.constants.ERROR_CORRECT_L,\n",
    "    box_size=10,\n",
    "    border=4,\n",
    ")\n",
    "qr.add_data(encrypted_vc)\n",
    "qr.make(fit=True)\n",
    "img = qr.make_image(fill_color=\"black\", back_color=\"white\")\n",
    "img.save(\"test/did_qr_code.png\")  # Saving the QR code to a file"
   ]
  },
  {
   "cell_type": "code",
   "execution_count": 39,
   "id": "4a0ac3d8-0cd2-4ca7-9cbc-033027785970",
   "metadata": {
    "tags": []
   },
   "outputs": [
    {
     "name": "stdout",
     "output_type": "stream",
     "text": [
      "QR code generated and saved as did_qr_code.png\n"
     ]
    }
   ],
   "source": [
    "# Generate QR Code for the DID\n",
    "qr_code_message = generate_qr_code(encrypted_vc)\n",
    "print(qr_code_message)"
   ]
  },
  {
   "cell_type": "code",
   "execution_count": 6,
   "id": "f0dfb9e6-45d2-4a0e-b606-f959f3d7a31a",
   "metadata": {
    "tags": []
   },
   "outputs": [],
   "source": [
    "from cryptography.fernet import Fernet\n",
    "\n",
    "def verify_credential(encrypted_credential, key):\n",
    "    try:\n",
    "        f = Fernet(key)\n",
    "        decrypted_data = f.decrypt(encrypted_credential).decode()\n",
    "        credential = json.loads(decrypted_data)\n",
    "        \n",
    "        # Check for validity, integrity, authenticity\n",
    "        if verify_signature(credential):\n",
    "            print(\"Credential is valid and authentic.\")\n",
    "            return credential\n",
    "        else:\n",
    "            print(\"Invalid signature. Credential could be tampered with.\")\n",
    "    except Exception as e:\n",
    "        print(f\"Error during verification: {str(e)}\")\n",
    "\n",
    "def verify_signature(credential):\n",
    "    # Dummy function for signature verification\n",
    "    return True  # In real implementation, you would check the digital signature here\n",
    "\n",
    "# Example usage:\n",
    "# Assume `encrypted_credential` is what you retrieved and decrypted from the database after scanning the QR\n",
    "# `key` is the Fernet key used for decryption\n",
    "# decrypted_credential = verify_credential(encrypted_credential, key)\n"
   ]
  },
  {
   "cell_type": "code",
   "execution_count": null,
   "id": "ebf84124-f04b-47dd-9a5f-5ba2377edfb3",
   "metadata": {},
   "outputs": [],
   "source": []
  },
  {
   "cell_type": "code",
   "execution_count": null,
   "id": "67f9ce99-251b-4180-9add-ee61afadeaf4",
   "metadata": {},
   "outputs": [],
   "source": []
  },
  {
   "cell_type": "code",
   "execution_count": null,
   "id": "3e62d39f-6efb-445f-b526-971a2d0256e9",
   "metadata": {},
   "outputs": [],
   "source": []
  },
  {
   "cell_type": "markdown",
   "id": "3df66bf0-6702-470f-b172-b9110a6c0f21",
   "metadata": {},
   "source": [
    "### Reading qr code"
   ]
  },
  {
   "cell_type": "code",
   "execution_count": 50,
   "id": "38e011d4-941a-47eb-9b19-5417fbebd069",
   "metadata": {
    "tags": []
   },
   "outputs": [],
   "source": [
    "# !pip install pillow"
   ]
  },
  {
   "cell_type": "code",
   "execution_count": 51,
   "id": "728528f7-be75-42b1-8051-2ddeb75cb2aa",
   "metadata": {
    "tags": []
   },
   "outputs": [],
   "source": [
    "# !pip install opencv-python"
   ]
  },
  {
   "cell_type": "code",
   "execution_count": 52,
   "id": "71605d54-0229-47bc-a4c2-9ce94f6f60b8",
   "metadata": {
    "tags": []
   },
   "outputs": [],
   "source": [
    "# !pip install pyzbar"
   ]
  },
  {
   "cell_type": "code",
   "execution_count": 53,
   "id": "78d1fdac-54d6-4bf3-855b-a34c26ac646b",
   "metadata": {
    "tags": []
   },
   "outputs": [],
   "source": [
    "import cv2\n",
    "from pyzbar import pyzbar"
   ]
  },
  {
   "cell_type": "code",
   "execution_count": 54,
   "id": "a54391b9-0db3-450b-a9e0-63b503433a5a",
   "metadata": {
    "tags": []
   },
   "outputs": [],
   "source": [
    "def read_barcodes(frame):\n",
    "    barcodes = pyzbar.decode(frame)\n",
    "    for barcode in barcodes:\n",
    "        x, y , w, h = barcode.rect\n",
    "        #1\n",
    "        barcode_info = barcode.data.decode('utf-8')\n",
    "        cv2.rectangle(frame, (x, y),(x+w, y+h), (0, 255, 0), 2)\n",
    "        \n",
    "        #2\n",
    "        font = cv2.FONT_HERSHEY_DUPLEX\n",
    "        cv2.putText(frame, barcode_info, (x + 6, y - 6), font, 2.0, (255, 255, 255), 1)\n",
    "        #3\n",
    "        with open(\"barcode_result.txt\", mode ='w') as file:\n",
    "            file.write(\"Recognized Barcode:\" + barcode_info)\n",
    "    return frame"
   ]
  },
  {
   "cell_type": "code",
   "execution_count": null,
   "id": "b74a22e4-ccc5-4b62-8318-8b484526f8d9",
   "metadata": {},
   "outputs": [],
   "source": [
    "trial_img= cv2.imread('test/did_qr_code.png')\n"
   ]
  }
 ],
 "metadata": {
  "kernelspec": {
   "display_name": "Python 3 (ipykernel)",
   "language": "python",
   "name": "python3"
  },
  "language_info": {
   "codemirror_mode": {
    "name": "ipython",
    "version": 3
   },
   "file_extension": ".py",
   "mimetype": "text/x-python",
   "name": "python",
   "nbconvert_exporter": "python",
   "pygments_lexer": "ipython3",
   "version": "3.11.5"
  }
 },
 "nbformat": 4,
 "nbformat_minor": 5
}
