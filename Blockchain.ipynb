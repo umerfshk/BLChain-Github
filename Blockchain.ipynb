{
 "cells": [
  {
   "cell_type": "code",
   "execution_count": 43,
   "id": "bf738c2e-0b5d-4713-910d-4b239aa277f8",
   "metadata": {
    "tags": []
   },
   "outputs": [
    {
     "name": "stdout",
     "output_type": "stream",
     "text": [
      "Encrypted Verifiable Credential:\n",
      "b'gAAAAABmMrwqK01HCQettUSRhBJ9O4W4rbvKUNh0t_E4IDwNpWU3M5scMPylJiH3x1FcpDHuQTbXb_M-kR4E7931tucIHI-jQLh3luN1E7NgHa2tvN_piCe4Xv_YjJ7jn9m7-X0aBWpesWYckydHj4gaB5_7omvm1bI-tyQjStQBZeoly221Vxo4MPRueA8UNh7HY2MY6ySZSqKn3ETuvAIBCpcOU6_wwXkaZ5bbEsCLPiF8nJUkpsiy7BYXQUANPMsMFqO4CX0lU6wIU65qUeWbImb98tJ4cd--Bon5bwDKNzeTSF1TPiGmMnUZDDneOtrZXyswYohDJ_ZbdnY7b9uVtaidynYm6TmfH4LZXlPB9Ex8q2FA_6fThWuFalFFiCUNje5FyLh6-6eqkdEm4cESiE4QsLDb_OXKwtmIS4L66LCtnZpPETuRxNbC84lEZRbgbuoYr8uGidR-rX1SLWLFHeYwzPMZLbNr5StDyen1arZ9rHmQeBiU6G56L2iGXZxWldunahalkRZDsXzByWxbizCJ0SE_QRbQoT0F-_3kFWGxe5NN3AcshUKdS2XCJ3FLHEOCr-hjc9eLdSL6Bkp1wsmJTAV3ZEIfOoBgsHVXC67mi_-aLmlJNIwPr2OpjU_T7KOS61Fwmv01-9r8psfniEoLS8CInlFFuwqzpLA60UMQADC8fhLXXHz77w_Kac59D6EZlBG8yg1A5iZI2FXROshGRcpHL65GvhaLIUIr72uwawsU_J_lDbmMYTiTKM8TvAzthpR7Y1zl7xypSFAPsndybTRPKDZzSUUtDYeyyQ2kacpioog='\n",
      "\n",
      "Decrypted Verifiable Credential:\n",
      "{\n",
      "  \"context\": \"https://www.w3.org/2018/credentials/v1\",\n",
      "  \"type\": [\n",
      "    \"VerifiableCredential\"\n",
      "  ],\n",
      "  \"issuer\": \"did:example:9113bf6b-e91e-4140-ad3e-317857ad292a\",\n",
      "  \"credentialSubject\": [\n",
      "    {\n",
      "      \"id\": \"did:example:6e500f3e-f1b1-45c3-8e60-53533256976b\",\n",
      "      \"name\": \"John Doe\",\n",
      "      \"studentId\": \"UNINotts-123456\",\n",
      "      \"course\": \"Computer Science\"\n",
      "    },\n",
      "    {\n",
      "      \"id\": \"did:example:328d84c6-41fc-415a-9d2b-4983bcc4ec98\",\n",
      "      \"name\": \"John Doe\",\n",
      "      \"studentId\": \"UNINotts-123456\",\n",
      "      \"course\": \"Computer Science\"\n",
      "    }\n",
      "  ]\n",
      "}\n"
     ]
    }
   ],
   "source": [
    "import json\n",
    "import uuid\n",
    "from cryptography.fernet import Fernet\n",
    "\n",
    "# Generate a unique decentralized identifier (DID)\n",
    "def generate_did():\n",
    "    return f\"did:example:{uuid.uuid4()}\"\n",
    "\n",
    "# Encrypt data to simulate cryptographic proof\n",
    "def encrypt_data(data, key):\n",
    "    f = Fernet(key)\n",
    "    encrypted_data = f.encrypt(data.encode())\n",
    "    return encrypted_data\n",
    "\n",
    "# Decrypt data\n",
    "def decrypt_data(encrypted_data, key):\n",
    "    f = Fernet(key)\n",
    "    decrypted_data = f.decrypt(encrypted_data).decode()\n",
    "    return decrypted_data\n",
    "\n",
    "# Create a verifiable credential\n",
    "def create_verifiable_credential(student_info, issuer, key):\n",
    "    credential = {\n",
    "        \"context\": \"https://www.w3.org/2018/credentials/v1\",\n",
    "        \"type\": [\"VerifiableCredential\"],\n",
    "        \"issuer\": issuer,\n",
    "        \"credentialSubject\": student_info,\n",
    "    }\n",
    "    serialized_credential = json.dumps(credential, indent=2)\n",
    "    encrypted_credential = encrypt_data(serialized_credential, key)\n",
    "    return encrypted_credential\n",
    "\n",
    "# Main function to create a DID and VC\n",
    "def main():\n",
    "    # Generate cryptographic key\n",
    "    key = Fernet.generate_key()\n",
    "    \n",
    "    # University and student info\n",
    "    university_did = generate_did()\n",
    "    student_info = [\n",
    "        {\n",
    "        \"id\": generate_did(),\n",
    "        \"name\": \"John Doe\",\n",
    "        \"studentId\": \"UNINotts-123456\",\n",
    "        \"course\": \"Computer Science\"\n",
    "    \n",
    "        },\n",
    "        {\n",
    "        \"id\": generate_did(),\n",
    "        \"name\": \"John Doe\",\n",
    "        \"studentId\": \"UNINotts-123456\",\n",
    "        \"course\": \"Computer Science\"\n",
    "        },\n",
    "    ]\n",
    "\n",
    "    # Create the VC\n",
    "    encrypted_vc = create_verifiable_credential(student_info, university_did, key)\n",
    "    print(\"Encrypted Verifiable Credential:\")\n",
    "    print(encrypted_vc)\n",
    "    \n",
    "    # Decrypting the VC for display\n",
    "    decrypted_vc = decrypt_data(encrypted_vc, key)\n",
    "    print(\"\\nDecrypted Verifiable Credential:\")\n",
    "    print(decrypted_vc)\n",
    "\n",
    "if __name__ == \"__main__\":\n",
    "    main()\n"
   ]
  },
  {
   "cell_type": "code",
   "execution_count": 3,
   "id": "48a7a7f3-bc51-4e61-b414-5c35fd2aaa64",
   "metadata": {
    "tags": []
   },
   "outputs": [],
   "source": [
    "# !pip install qrcode"
   ]
  },
  {
   "cell_type": "code",
   "execution_count": 30,
   "id": "50690349-8fd4-489e-842a-74719cf7bb49",
   "metadata": {
    "tags": []
   },
   "outputs": [
    {
     "name": "stdout",
     "output_type": "stream",
     "text": [
      "Encrypted Verifiable Credential:\n",
      "b'gAAAAABmMqpoiZIvsQIGryBezcnEn0WKLdv38B2TPSy7QHtJqezTHvxBzvPq49wWMFXUIMQNNf0FKHrsg2ZGYNzHOGlMseBv0gdDXWNS96Sib6wlIOWg5vvwaaaNOED1ZzxooY50kfpeKFLuMqkc0E2vi_hfzKsbJtR6E0NPjw-ZLJcVGMh4MrU1JGCJ4otT9fVsSUFT3sjNjZNnvA5WS_NSTDLL2QgTIpZ--buQaVz-YP5c6V3H-E42IwZDaNQiS41r9y01SaIu-vSam3qY6Rq2BMm4BDsQKDI48eRzy8J42a0hHSz5K7C2QwXdO6OLtPxiv3jJihalBj7nAscHs8qPderBUhomi-d0TlTYGQ7GBxPUDNDsA4jct6__nqaRjzptyFr3ygGGTi4iPLEHGNvFPAE60TwrFwHaxzKzP6V172BAQ_okVbkATog3Lh-hlJxb4yGeSvRrvydCFFsvXfDYDVQWzL-oFMAMqDMBJj4QWsqZLz-G4GxmqjK-Yvxq2oacaliQCliYFUM5yW7FDsP9BO0EIACe8w=='\n",
      "\n",
      "Decrypted Verifiable Credential:\n",
      "{\n",
      "  \"context\": \"https://www.w3.org/2018/credentials/v1\",\n",
      "  \"type\": [\n",
      "    \"VerifiableCredential\"\n",
      "  ],\n",
      "  \"issuer\": \"did:example:bbe7131f-b73b-4999-9a06-7727b0521397\",\n",
      "  \"credentialSubject\": {\n",
      "    \"id\": \"did:example:6536ae2f-49d7-4200-8aa9-2a9fc1c7226e\",\n",
      "    \"name\": \"John Doe\",\n",
      "    \"studentId\": \"UNINotts-123456\",\n",
      "    \"course\": \"Computer Science\"\n",
      "  }\n",
      "}\n",
      "QR code generated and saved as did_qr_code.png\n"
     ]
    }
   ],
   "source": [
    "import json\n",
    "import uuid\n",
    "import qrcode\n",
    "from cryptography.fernet import Fernet\n",
    "\n",
    "# Generate a unique decentralized identifier (DID)\n",
    "def generate_did():\n",
    "    return f\"did:example:{uuid.uuid4()}\"\n",
    "\n",
    "# Encrypt data to simulate cryptographic proof\n",
    "def encrypt_data(data, key):\n",
    "    f = Fernet(key)\n",
    "    encrypted_data = f.encrypt(data.encode())\n",
    "    return encrypted_data\n",
    "\n",
    "# Decrypt data\n",
    "def decrypt_data(encrypted_data, key):\n",
    "    f = Fernet(key)\n",
    "    decrypted_data = f.decrypt(encrypted_data).decode()\n",
    "    return decrypted_data\n",
    "\n",
    "# Create a verifiable credential\n",
    "def create_verifiable_credential(student_info, issuer, key):\n",
    "    credential = {\n",
    "        \"context\": \"https://www.w3.org/2018/credentials/v1\",\n",
    "        \"type\": [\"VerifiableCredential\"],\n",
    "        \"issuer\": issuer,\n",
    "        \"credentialSubject\": student_info,\n",
    "    }\n",
    "    serialized_credential = json.dumps(credential, indent=2)\n",
    "    encrypted_credential = encrypt_data(serialized_credential, key)\n",
    "    return encrypted_credential\n",
    "\n",
    "# Generate QR Code for any text\n",
    "def generate_qr_code(data):\n",
    "    qr = qrcode.QRCode(\n",
    "        version=1,\n",
    "        error_correction=qrcode.constants.ERROR_CORRECT_L,\n",
    "        box_size=10,\n",
    "        border=4,\n",
    "    )\n",
    "    qr.add_data(data)\n",
    "    qr.make(fit=True)\n",
    "    img = qr.make_image(fill_color=\"black\", back_color=\"white\")\n",
    "    img.save(\"did_qr_code.png\")  # Saving the QR code to a file\n",
    "    return \"QR code generated and saved as did_qr_code.png\"\n",
    "\n",
    "# Main function to create a DID and VC\n",
    "def main():\n",
    "    # Generate cryptographic key\n",
    "    key = Fernet.generate_key()\n",
    "    \n",
    "    # University and student info\n",
    "    university_did = generate_did()\n",
    "    student_info = {\n",
    "        \"id\": generate_did(),\n",
    "        \"name\": \"John Doe\",\n",
    "        \"studentId\": \"UNINotts-123456\",\n",
    "        \"course\": \"Computer Science\"\n",
    "    }\n",
    "\n",
    "    # Create the VC\n",
    "    encrypted_vc = create_verifiable_credential(student_info, university_did, key)\n",
    "    print(\"Encrypted Verifiable Credential:\")\n",
    "    print(encrypted_vc)\n",
    "    \n",
    "    # Decrypting the VC for display\n",
    "    decrypted_vc = decrypt_data(encrypted_vc, key)\n",
    "    print(\"\\nDecrypted Verifiable Credential:\")\n",
    "    print(decrypted_vc) \n",
    "\n",
    "    # Generate QR Code for the DID\n",
    "    qr_code_message = generate_qr_code(json.dumps(student_info))\n",
    "    print(qr_code_message)\n",
    "\n",
    "if __name__ == \"__main__\":\n",
    "    main()\n"
   ]
  },
  {
   "cell_type": "code",
   "execution_count": 61,
   "id": "c4532220-2aae-48d8-9c94-f4ad6b7575c4",
   "metadata": {
    "tags": []
   },
   "outputs": [
    {
     "name": "stdout",
     "output_type": "stream",
     "text": [
      "Encrypted Verifiable Credential:\n",
      "b'gAAAAABmMr3wW-IBHhfqV0gLttSsxzsLcTkAZwCqgXbP9nnCnKRkh9UtrvpTvi9U5VvQChhjy7FehJ-vwGIl-2M-07QpoH4Dn8qGlsm1Pz7g9s9_rJPWU2wozivLqlKAVmxWrMEAXJus2GRZEGgiIa7cgC-Ns9Y7JDWsdDyYse2vfZ7LqlAsBLWesS5Ybpy4e6CN53N-q1vP6IMCwAT7irr-mIlRkrQWqLekTd-6biIy6R24UH5HNqiI4d6W8V6GZa7za1KFiRBXw6Rh8AgXNt6N3Z20--VvWEAnqF9cMnh9ysbN6w379kkocTQXmiAe-G-09ez7MXKHqcWTmI819LLwcrsaKESpw99U1Lob_PDuOUAAfPHV95LZ7kyPxigvje-tiezrIej_AnEjBWjE0MpCUEYMEx7bAp0FqbhzozaxZnjxESsje4eIiRgioq4jIeDIshZSnleXCl987Ty_Io-9fWuhXU5H0RlciEEWTPGFtZ5dkWdR8XDQ14S4vFpD3COX3WtdKTPyi6IpJcq1NZ-_TgjtoDHvklBMVm3r9rJC7nSmYPzqLfxbom1WDcbMvd4mNDK5-O9Ij07Z4x6ckSS_8zspJDalngw1kFLEOM9ElVz-x_VriDbmBR1uaVLWZ60u2_BGcc-wvT5-dvnVo4OH76JazhlFgAwIL7uFlBr_vG1OJW0AonEuir6FYz2NQObLKS33gOSovzEM4rAl9BLRsDtfA9isTTcw_1AIq7X0p0qgas12Q0QvwrIGGj6_2ohq6oVQuzstNBtvWabHBDEY2uom0Cse20eEa3HISDIEZ1G-MJvm2Mo='\n",
      "\n",
      "Decrypted Verifiable Credential:\n",
      "{\n",
      "  \"context\": \"https://www.w3.org/2018/credentials/v1\",\n",
      "  \"type\": [\n",
      "    \"VerifiableCredential\"\n",
      "  ],\n",
      "  \"issuer\": \"did:example:7aee07cb-f64a-416f-a19c-b3d69c451ef6\",\n",
      "  \"credentialSubject\": [\n",
      "    {\n",
      "      \"id\": \"did:example:e4a03152-9715-4d22-acd9-b026d1c4f3f5\",\n",
      "      \"name\": \"John Doe\",\n",
      "      \"studentId\": \"UNINotts-123456\",\n",
      "      \"course\": \"Computer Science\"\n",
      "    },\n",
      "    {\n",
      "      \"id\": \"did:example:2aa76a01-aba1-49a2-bf51-c68b8b3834d6\",\n",
      "      \"name\": \"John Doe\",\n",
      "      \"studentId\": \"UNINotts-123456\",\n",
      "      \"course\": \"Computer Science\"\n",
      "    }\n",
      "  ]\n",
      "}\n"
     ]
    }
   ],
   "source": [
    "# Generate cryptographic key\n",
    "key = Fernet.generate_key()\n",
    "\n",
    "# University and student info\n",
    "university_did = generate_did()\n",
    "student_info = [\n",
    "        {\n",
    "        \"id\": generate_did(),\n",
    "        \"name\": \"John Doe\",\n",
    "        \"studentId\": \"UNINotts-123456\",\n",
    "        \"course\": \"Computer Science\"\n",
    "    \n",
    "        },\n",
    "        {\n",
    "        \"id\": generate_did(),\n",
    "        \"name\": \"John Doe\",\n",
    "        \"studentId\": \"UNINotts-123456\",\n",
    "        \"course\": \"Computer Science\"\n",
    "        },\n",
    "    ]\n",
    "\n",
    "# Create the VC\n",
    "encrypted_vc = create_verifiable_credential(student_info, university_did, key)\n",
    "print(\"Encrypted Verifiable Credential:\")\n",
    "print(encrypted_vc)\n",
    "\n",
    "# Decrypting the VC for display\n",
    "decrypted_vc = decrypt_data(encrypted_vc, key)\n",
    "print(\"\\nDecrypted Verifiable Credential:\")\n",
    "print(decrypted_vc) "
   ]
  },
  {
   "cell_type": "code",
   "execution_count": 62,
   "id": "2737ec22-e2e1-442d-8558-93554eda309f",
   "metadata": {
    "tags": []
   },
   "outputs": [
    {
     "data": {
      "text/plain": [
       "b'gAAAAABmMr3wW-IBHhfqV0gLttSsxzsLcTkAZwCqgXbP9nnCnKRkh9UtrvpTvi9U5VvQChhjy7FehJ-vwGIl-2M-07QpoH4Dn8qGlsm1Pz7g9s9_rJPWU2wozivLqlKAVmxWrMEAXJus2GRZEGgiIa7cgC-Ns9Y7JDWsdDyYse2vfZ7LqlAsBLWesS5Ybpy4e6CN53N-q1vP6IMCwAT7irr-mIlRkrQWqLekTd-6biIy6R24UH5HNqiI4d6W8V6GZa7za1KFiRBXw6Rh8AgXNt6N3Z20--VvWEAnqF9cMnh9ysbN6w379kkocTQXmiAe-G-09ez7MXKHqcWTmI819LLwcrsaKESpw99U1Lob_PDuOUAAfPHV95LZ7kyPxigvje-tiezrIej_AnEjBWjE0MpCUEYMEx7bAp0FqbhzozaxZnjxESsje4eIiRgioq4jIeDIshZSnleXCl987Ty_Io-9fWuhXU5H0RlciEEWTPGFtZ5dkWdR8XDQ14S4vFpD3COX3WtdKTPyi6IpJcq1NZ-_TgjtoDHvklBMVm3r9rJC7nSmYPzqLfxbom1WDcbMvd4mNDK5-O9Ij07Z4x6ckSS_8zspJDalngw1kFLEOM9ElVz-x_VriDbmBR1uaVLWZ60u2_BGcc-wvT5-dvnVo4OH76JazhlFgAwIL7uFlBr_vG1OJW0AonEuir6FYz2NQObLKS33gOSovzEM4rAl9BLRsDtfA9isTTcw_1AIq7X0p0qgas12Q0QvwrIGGj6_2ohq6oVQuzstNBtvWabHBDEY2uom0Cse20eEa3HISDIEZ1G-MJvm2Mo='"
      ]
     },
     "execution_count": 62,
     "metadata": {},
     "output_type": "execute_result"
    }
   ],
   "source": [
    "encrypted_vc"
   ]
  },
  {
   "cell_type": "code",
   "execution_count": 63,
   "id": "150c9b59-4c0f-4211-b864-ad5b25369687",
   "metadata": {
    "tags": []
   },
   "outputs": [],
   "source": [
    "test = json.dumps(student_info)"
   ]
  },
  {
   "cell_type": "code",
   "execution_count": 64,
   "id": "5d498506-c5bd-466c-b057-73d42106d089",
   "metadata": {
    "tags": []
   },
   "outputs": [],
   "source": [
    "qr = qrcode.QRCode(\n",
    "    version=1,\n",
    "    error_correction=qrcode.constants.ERROR_CORRECT_L,\n",
    "    box_size=10,\n",
    "    border=4,\n",
    ")\n",
    "qr.add_data(encrypted_vc)\n",
    "qr.make(fit=True)\n",
    "img = qr.make_image(fill_color=\"black\", back_color=\"white\")\n",
    "img.save(\"test/did_qr_code.png\")  # Saving the QR code to a file"
   ]
  },
  {
   "cell_type": "code",
   "execution_count": 65,
   "id": "4a0ac3d8-0cd2-4ca7-9cbc-033027785970",
   "metadata": {
    "tags": []
   },
   "outputs": [
    {
     "name": "stdout",
     "output_type": "stream",
     "text": [
      "QR code generated and saved as did_qr_code.png\n"
     ]
    }
   ],
   "source": [
    "# Generate QR Code for the DID\n",
    "qr_code_message = generate_qr_code(encrypted_vc)\n",
    "print(qr_code_message)"
   ]
  },
  {
   "cell_type": "code",
   "execution_count": 66,
   "id": "f0dfb9e6-45d2-4a0e-b606-f959f3d7a31a",
   "metadata": {
    "tags": []
   },
   "outputs": [],
   "source": [
    "from cryptography.fernet import Fernet\n",
    "\n",
    "def verify_credential(encrypted_credential, key):\n",
    "    try:\n",
    "        f = Fernet(key)\n",
    "        decrypted_data = f.decrypt(encrypted_credential).decode()\n",
    "        credential = json.loads(decrypted_data)\n",
    "        \n",
    "        # Check for validity, integrity, authenticity\n",
    "        if verify_signature(credential):\n",
    "            print(\"Credential is valid and authentic.\")\n",
    "            return credential\n",
    "        else:\n",
    "            print(\"Invalid signature. Credential could be tampered with.\")\n",
    "    except Exception as e:\n",
    "        print(f\"Error during verification: {str(e)}\")\n",
    "\n",
    "def verify_signature(credential):\n",
    "    # Dummy function for signature verification\n",
    "    return True  # In real implementation, you would check the digital signature here\n",
    "\n",
    "# Example usage:\n",
    "# Assume `encrypted_credential` is what you retrieved and decrypted from the database after scanning the QR\n",
    "# `key` is the Fernet key used for decryption\n",
    "# decrypted_credential = verify_credential(encrypted_credential, key)\n"
   ]
  },
  {
   "cell_type": "code",
   "execution_count": null,
   "id": "ebf84124-f04b-47dd-9a5f-5ba2377edfb3",
   "metadata": {},
   "outputs": [],
   "source": []
  },
  {
   "cell_type": "code",
   "execution_count": null,
   "id": "67f9ce99-251b-4180-9add-ee61afadeaf4",
   "metadata": {},
   "outputs": [],
   "source": []
  },
  {
   "cell_type": "code",
   "execution_count": null,
   "id": "3e62d39f-6efb-445f-b526-971a2d0256e9",
   "metadata": {},
   "outputs": [],
   "source": []
  },
  {
   "cell_type": "markdown",
   "id": "3df66bf0-6702-470f-b172-b9110a6c0f21",
   "metadata": {},
   "source": [
    "### Reading qr code"
   ]
  },
  {
   "cell_type": "code",
   "execution_count": 67,
   "id": "38e011d4-941a-47eb-9b19-5417fbebd069",
   "metadata": {
    "tags": []
   },
   "outputs": [],
   "source": [
    "# !pip install pillow"
   ]
  },
  {
   "cell_type": "code",
   "execution_count": 68,
   "id": "728528f7-be75-42b1-8051-2ddeb75cb2aa",
   "metadata": {
    "tags": []
   },
   "outputs": [],
   "source": [
    "# !pip install opencv-python"
   ]
  },
  {
   "cell_type": "code",
   "execution_count": 69,
   "id": "71605d54-0229-47bc-a4c2-9ce94f6f60b8",
   "metadata": {
    "tags": []
   },
   "outputs": [],
   "source": [
    "# !pip install pyzbar"
   ]
  },
  {
   "cell_type": "code",
   "execution_count": 70,
   "id": "78d1fdac-54d6-4bf3-855b-a34c26ac646b",
   "metadata": {
    "tags": []
   },
   "outputs": [],
   "source": [
    "import cv2\n",
    "from pyzbar import pyzbar"
   ]
  },
  {
   "cell_type": "code",
   "execution_count": 71,
   "id": "b74a22e4-ccc5-4b62-8318-8b484526f8d9",
   "metadata": {
    "tags": []
   },
   "outputs": [],
   "source": [
    "trial_img= cv2.imread('test/did_qr_code.png')"
   ]
  },
  {
   "cell_type": "code",
   "execution_count": 72,
   "id": "38c64955-4aaf-46e6-9b43-b2c301ad6424",
   "metadata": {
    "tags": []
   },
   "outputs": [],
   "source": [
    "qcd = cv2.QRCodeDetector()"
   ]
  },
  {
   "cell_type": "code",
   "execution_count": 73,
   "id": "10960987-8e26-4c86-94eb-8e4e8d69c381",
   "metadata": {
    "tags": []
   },
   "outputs": [],
   "source": [
    "data, bbox, _ = qcd.detectAndDecode(trial_img)"
   ]
  },
  {
   "cell_type": "code",
   "execution_count": 74,
   "id": "dde5a0bd-a9e6-43a6-8641-ba82d51956e4",
   "metadata": {},
   "outputs": [
    {
     "data": {
      "text/plain": [
       "'gAAAAABmMr3wW-IBHhfqV0gLttSsxzsLcTkAZwCqgXbP9nnCnKRkh9UtrvpTvi9U5VvQChhjy7FehJ-vwGIl-2M-07QpoH4Dn8qGlsm1Pz7g9s9_rJPWU2wozivLqlKAVmxWrMEAXJus2GRZEGgiIa7cgC-Ns9Y7JDWsdDyYse2vfZ7LqlAsBLWesS5Ybpy4e6CN53N-q1vP6IMCwAT7irr-mIlRkrQWqLekTd-6biIy6R24UH5HNqiI4d6W8V6GZa7za1KFiRBXw6Rh8AgXNt6N3Z20--VvWEAnqF9cMnh9ysbN6w379kkocTQXmiAe-G-09ez7MXKHqcWTmI819LLwcrsaKESpw99U1Lob_PDuOUAAfPHV95LZ7kyPxigvje-tiezrIej_AnEjBWjE0MpCUEYMEx7bAp0FqbhzozaxZnjxESsje4eIiRgioq4jIeDIshZSnleXCl987Ty_Io-9fWuhXU5H0RlciEEWTPGFtZ5dkWdR8XDQ14S4vFpD3COX3WtdKTPyi6IpJcq1NZ-_TgjtoDHvklBMVm3r9rJC7nSmYPzqLfxbom1WDcbMvd4mNDK5-O9Ij07Z4x6ckSS_8zspJDalngw1kFLEOM9ElVz-x_VriDbmBR1uaVLWZ60u2_BGcc-wvT5-dvnVo4OH76JazhlFgAwIL7uFlBr_vG1OJW0AonEuir6FYz2NQObLKS33gOSovzEM4rAl9BLRsDtfA9isTTcw_1AIq7X0p0qgas12Q0QvwrIGGj6_2ohq6oVQuzstNBtvWabHBDEY2uom0Cse20eEa3HISDIEZ1G-MJvm2Mo='"
      ]
     },
     "execution_count": 74,
     "metadata": {},
     "output_type": "execute_result"
    }
   ],
   "source": [
    "data"
   ]
  },
  {
   "cell_type": "code",
   "execution_count": 75,
   "id": "7187c71e-a171-4317-8964-06c2ca878755",
   "metadata": {
    "tags": []
   },
   "outputs": [
    {
     "name": "stdout",
     "output_type": "stream",
     "text": [
      "\n",
      "Decrypted Verifiable Credential:\n",
      "{\n",
      "  \"context\": \"https://www.w3.org/2018/credentials/v1\",\n",
      "  \"type\": [\n",
      "    \"VerifiableCredential\"\n",
      "  ],\n",
      "  \"issuer\": \"did:example:7aee07cb-f64a-416f-a19c-b3d69c451ef6\",\n",
      "  \"credentialSubject\": [\n",
      "    {\n",
      "      \"id\": \"did:example:e4a03152-9715-4d22-acd9-b026d1c4f3f5\",\n",
      "      \"name\": \"John Doe\",\n",
      "      \"studentId\": \"UNINotts-123456\",\n",
      "      \"course\": \"Computer Science\"\n",
      "    },\n",
      "    {\n",
      "      \"id\": \"did:example:2aa76a01-aba1-49a2-bf51-c68b8b3834d6\",\n",
      "      \"name\": \"John Doe\",\n",
      "      \"studentId\": \"UNINotts-123456\",\n",
      "      \"course\": \"Computer Science\"\n",
      "    }\n",
      "  ]\n",
      "}\n"
     ]
    }
   ],
   "source": [
    "# Decrypting the VC for display\n",
    "decrypted_vc = decrypt_data(data, key)\n",
    "print(\"\\nDecrypted Verifiable Credential:\")\n",
    "print(decrypted_vc) "
   ]
  },
  {
   "cell_type": "code",
   "execution_count": null,
   "id": "a4725e9f-9557-41e0-a246-169b913f8cd9",
   "metadata": {},
   "outputs": [],
   "source": []
  },
  {
   "cell_type": "code",
   "execution_count": null,
   "id": "8464f31e-9ad9-45b5-824f-23febff6370e",
   "metadata": {},
   "outputs": [],
   "source": []
  },
  {
   "cell_type": "code",
   "execution_count": null,
   "id": "f5ec2bf4-e9ae-4272-8def-b58f006db5d9",
   "metadata": {
    "tags": []
   },
   "outputs": [],
   "source": [
    "retval, decoded_info, points, straight_qrcode = qcd.detectAndDecodeMulti(trial_img)"
   ]
  },
  {
   "cell_type": "code",
   "execution_count": null,
   "id": "e430c77b-1ebc-47bd-ab51-82179a446512",
   "metadata": {
    "tags": []
   },
   "outputs": [
    {
     "data": {
      "text/plain": [
       "True"
      ]
     },
     "execution_count": 25,
     "metadata": {},
     "output_type": "execute_result"
    }
   ],
   "source": [
    "retval"
   ]
  },
  {
   "cell_type": "code",
   "execution_count": null,
   "id": "0ba9d45d-23ff-401d-ac0d-5293c340c36b",
   "metadata": {
    "tags": []
   },
   "outputs": [
    {
     "data": {
      "text/plain": [
       "('gAAAAABmMqijUsYYHYbYf8vWH_kU0QRputEBoYCuEvqx4aSL2AfUsoH0MaCRxPk0Oi85mLoLoKppp7qGoNAgbbNgLW-8R_bXZX1FsufT8RdqwBsjDUv1p7fz0wHX6qNEMzkoeXXk4j_JyYi_LSrqmIYfGFuXMNXEfudg5Vly95t0aNfnoUm65Y7yyGj38_5Ci_9nLhpy5fehhzghNaghtBTQ6GrwIfcxQmFEWYXepY2tHLqTNDYeFvJe7CaINE29A-5AegmNgYtCLeiPijCcf2alRGtJv7u6aoRORQAVkinlIIGxEuwd9szrWd_TzNBNfIDWvdr0_XTZYY_7b638XCi5t56Bkkytv5x9klA7cSjIOy3gUjPBegcozH2DPq-OgBunROq4h4UBjGZmsksLDVTTdiaVidH_P7-gep9PDsZDwO1Dgcrex08VUgMDI-ZHc0a8L005p4MC3dylvAMnkn7DI2kO4CwQfTNJiZYCjcpgGDYUZYypxq0Rrm3K6YM6x2m7mSxtkzT6NC5UIkja3f40_82WzBNTMg==',)"
      ]
     },
     "execution_count": 26,
     "metadata": {},
     "output_type": "execute_result"
    }
   ],
   "source": [
    "decoded_info"
   ]
  }
 ],
 "metadata": {
  "kernelspec": {
   "display_name": "Python 3 (ipykernel)",
   "language": "python",
   "name": "python3"
  },
  "language_info": {
   "codemirror_mode": {
    "name": "ipython",
    "version": 3
   },
   "file_extension": ".py",
   "mimetype": "text/x-python",
   "name": "python",
   "nbconvert_exporter": "python",
   "pygments_lexer": "ipython3",
   "version": "3.11.5"
  }
 },
 "nbformat": 4,
 "nbformat_minor": 5
}
