{
 "cells": [
  {
   "cell_type": "code",
   "execution_count": 1,
   "id": "48a7a7f3-bc51-4e61-b414-5c35fd2aaa64",
   "metadata": {
    "tags": []
   },
   "outputs": [],
   "source": [
    "# !pip install qrcode"
   ]
  },
  {
   "cell_type": "code",
   "execution_count": 2,
   "id": "50690349-8fd4-489e-842a-74719cf7bb49",
   "metadata": {
    "tags": []
   },
   "outputs": [],
   "source": [
    "import json\n",
    "import uuid\n",
    "import qrcode\n",
    "from cryptography.fernet import Fernet\n",
    "import random\n",
    "\n",
    "random.seed(123)\n",
    "\n",
    "# Generate a unique decentralized identifier (DID)\n",
    "def generate_did():\n",
    "    return f\"did:example:{uuid.uuid4()}\"\n",
    "\n",
    "# Encrypt data to simulate cryptographic proof\n",
    "def encrypt_data(data, key):\n",
    "    f = Fernet(key)\n",
    "    encrypted_data = f.encrypt(data.encode())\n",
    "    return encrypted_data\n",
    "\n",
    "# Decrypt data\n",
    "def decrypt_data(encrypted_data, key):\n",
    "    f = Fernet(key)\n",
    "    decrypted_data = f.decrypt(encrypted_data).decode()\n",
    "    return decrypted_data\n",
    "\n",
    "# Create a verifiable credential\n",
    "def create_verifiable_credential(student_info, issuer, key):\n",
    "    credential = {\n",
    "        \"context\": \"https://www.w3.org/2018/credentials/v1\",\n",
    "        \"type\": [\"VerifiableCredential\"],\n",
    "        \"issuer\": issuer,\n",
    "        \"credentialSubject\": student_info,\n",
    "    }\n",
    "    serialized_credential = json.dumps(credential, indent=2)\n",
    "    encrypted_credential = encrypt_data(serialized_credential, key)\n",
    "    return encrypted_credential\n",
    "\n",
    "# Generate QR Code for any text\n",
    "def generate_qr_code(data, address):\n",
    "    qr = qrcode.QRCode(\n",
    "        version=1,\n",
    "        error_correction=qrcode.constants.ERROR_CORRECT_L,\n",
    "        box_size=10,\n",
    "        border=4,\n",
    "    )\n",
    "    \n",
    "    data = f'{address}/?data={data}'\n",
    "    qr.add_data(data)\n",
    "    qr.make(fit=True)\n",
    "    img = qr.make_image(fill_color=\"black\", back_color=\"white\")\n",
    "    img.save(\"did_qr_code.png\")  # Saving the QR code to a file\n",
    "    return \"QR code generated and saved as did_qr_code.png\"\n",
    "\n",
    "# Main function to create a DID and VC\n",
    "def main(student_info, address):\n",
    "    # Generate cryptographic key\n",
    "    key = Fernet.generate_key()\n",
    "    \n",
    "    # University and student info\n",
    "    university_did = generate_did()\n",
    "    \n",
    "    # For demonstration\n",
    "    # since we used all wallet information, we just have to keep 'id' key to simulate real implementation\n",
    "    keys_to_keep = ['id']\n",
    "    student_info = [{k: v for k, v in d.items() if k in keys_to_keep} for d in student_info]\n",
    "    # Create the VC\n",
    "    encrypted_vc = create_verifiable_credential(student_info, university_did, key)\n",
    "    print(\"Encrypted Verifiable Credential:\")\n",
    "    print(encrypted_vc)\n",
    "    \n",
    "    # Decrypting the VC for display\n",
    "    decrypted_vc = decrypt_data(encrypted_vc, key)\n",
    "    print(\"\\nDecrypted Verifiable Credential:\")\n",
    "    print(decrypted_vc) \n",
    "\n",
    "    # Generate QR Code for the DID\n",
    "    qr_code_message = generate_qr_code(encrypted_vc, address)\n",
    "    print(qr_code_message)\n",
    "\n",
    "    return key"
   ]
  },
  {
   "cell_type": "markdown",
   "id": "8c80e833-7326-4971-b9a0-7e8b3c6441a3",
   "metadata": {},
   "source": [
    "### generate wallets"
   ]
  },
  {
   "cell_type": "code",
   "execution_count": 3,
   "id": "d2328c36-14a6-4703-958f-2504168037eb",
   "metadata": {
    "tags": []
   },
   "outputs": [],
   "source": [
    "random.seed(123)\n",
    "\n",
    "s1= {\"id\": generate_did(),\n",
    "     \"name\": \"John Doe\",\n",
    "     \"studentId\": \"UNINotts-123456\",\n",
    "     \"course\": \"Computer Science\",\n",
    "    }\n",
    "\n",
    "s2= {\"id\": generate_did(),\n",
    "     \"name\": \"Jane Doe\",\n",
    "     \"studentId\": \"UNINotts-128223\",\n",
    "     \"course\": \"Financial Technology\",\n",
    "    }"
   ]
  },
  {
   "cell_type": "code",
   "execution_count": 4,
   "id": "eaf5e53b-4abc-4c8a-9608-fd5251dae855",
   "metadata": {
    "tags": []
   },
   "outputs": [],
   "source": [
    "address = 'http://10.132.198.247:8501'"
   ]
  },
  {
   "cell_type": "code",
   "execution_count": 5,
   "id": "26fe9d31-1a52-4b52-acf2-f901c13196f7",
   "metadata": {
    "tags": []
   },
   "outputs": [
    {
     "name": "stdout",
     "output_type": "stream",
     "text": [
      "Encrypted Verifiable Credential:\n",
      "b'gAAAAABmM5MHKlBkhJGCkkkPtp_cKtL7WJfBUmqmRD4C78SNO-jS4tAENU-10L7nc3KDEUFjvVdheGGfWBZ_fRxsZCS8rz5Qdog_KyigJwPH74GuhO8Gh6sigIkP5_Jbt5govS-hfJfLb6IQVkEZX546hgoedoJ4biPMkgwNr1vQJjRzicH90Dkh7vHMccb51m29YmBdwfJw03Ah9OKGhQjUZ_R7q3-uZ_WDk9FRdp3AY_vNn2XgZBsvg1MSFhR0CQ9pXfGwnYhKBKmnlTsyP6_rD4WHnl-0o_IMNb6uuzoN-nqOhIrPORhSKhz7VwalBxc084adQzcOg3PpbiyJhLt9HIwf_FMQnros2Y3pPYPsupv-0XE2l9py4b8lnw2CrS4SL-KJIAf0voeRv2n1A_Ic3noaBmkVeeFoxrUPUOLMYMmh8UWMSAUfrhl_YsHU65e6XQ70IULGdJOq18jsVpvq88kFSUdMIg-kjz-lBY2AI-DIbSGgqIyyvXlbhmGCd8vs9ajvOh3eIEvRYDPWxEktB4ZeILlhXg=='\n",
      "\n",
      "Decrypted Verifiable Credential:\n",
      "{\n",
      "  \"context\": \"https://www.w3.org/2018/credentials/v1\",\n",
      "  \"type\": [\n",
      "    \"VerifiableCredential\"\n",
      "  ],\n",
      "  \"issuer\": \"did:example:c6726827-21e5-474f-acce-d97ad8274e1f\",\n",
      "  \"credentialSubject\": [\n",
      "    {\n",
      "      \"id\": \"did:example:3ebeff4e-aa90-4a13-8892-e095eefb2a09\"\n",
      "    },\n",
      "    {\n",
      "      \"id\": \"did:example:9499ce3a-fd2c-4e9c-bbd9-fecf524a0dad\"\n",
      "    }\n",
      "  ]\n",
      "}\n",
      "QR code generated and saved as did_qr_code.png\n"
     ]
    }
   ],
   "source": [
    "random.seed(123)\n",
    "\n",
    "student_info = [s1,s2]\n",
    "key = main(student_info, address)"
   ]
  },
  {
   "cell_type": "code",
   "execution_count": 6,
   "id": "3e62d39f-6efb-445f-b526-971a2d0256e9",
   "metadata": {
    "tags": []
   },
   "outputs": [
    {
     "data": {
      "text/plain": [
       "b'lEIrfomp6SCg-ejEvCZeyX4YpEvbMehJBjXYjjWDzWw='"
      ]
     },
     "execution_count": 6,
     "metadata": {},
     "output_type": "execute_result"
    }
   ],
   "source": [
    "key"
   ]
  },
  {
   "cell_type": "markdown",
   "id": "3df66bf0-6702-470f-b172-b9110a6c0f21",
   "metadata": {},
   "source": [
    "### Reading qr code"
   ]
  },
  {
   "cell_type": "code",
   "execution_count": 7,
   "id": "38e011d4-941a-47eb-9b19-5417fbebd069",
   "metadata": {
    "tags": []
   },
   "outputs": [],
   "source": [
    "# !pip install pillow"
   ]
  },
  {
   "cell_type": "code",
   "execution_count": 8,
   "id": "728528f7-be75-42b1-8051-2ddeb75cb2aa",
   "metadata": {
    "tags": []
   },
   "outputs": [],
   "source": [
    "# !pip install opencv-python"
   ]
  },
  {
   "cell_type": "code",
   "execution_count": 9,
   "id": "71605d54-0229-47bc-a4c2-9ce94f6f60b8",
   "metadata": {
    "tags": []
   },
   "outputs": [],
   "source": [
    "# !pip install pyzbar"
   ]
  },
  {
   "cell_type": "code",
   "execution_count": 10,
   "id": "78d1fdac-54d6-4bf3-855b-a34c26ac646b",
   "metadata": {
    "tags": []
   },
   "outputs": [],
   "source": [
    "import cv2\n",
    "from pyzbar import pyzbar"
   ]
  },
  {
   "cell_type": "code",
   "execution_count": 11,
   "id": "b74a22e4-ccc5-4b62-8318-8b484526f8d9",
   "metadata": {
    "tags": []
   },
   "outputs": [],
   "source": [
    "trial_img= cv2.imread('did_qr_code.png')\n",
    "qcd = cv2.QRCodeDetector()\n",
    "data, bbox, _ = qcd.detectAndDecode(trial_img)"
   ]
  },
  {
   "cell_type": "code",
   "execution_count": 12,
   "id": "38c64955-4aaf-46e6-9b43-b2c301ad6424",
   "metadata": {
    "tags": []
   },
   "outputs": [
    {
     "data": {
      "text/plain": [
       "\"http://10.132.198.247:8501/?data=b'gAAAAABmM5MHKlBkhJGCkkkPtp_cKtL7WJfBUmqmRD4C78SNO-jS4tAENU-10L7nc3KDEUFjvVdheGGfWBZ_fRxsZCS8rz5Qdog_KyigJwPH74GuhO8Gh6sigIkP5_Jbt5govS-hfJfLb6IQVkEZX546hgoedoJ4biPMkgwNr1vQJjRzicH90Dkh7vHMccb51m29YmBdwfJw03Ah9OKGhQjUZ_R7q3-uZ_WDk9FRdp3AY_vNn2XgZBsvg1MSFhR0CQ9pXfGwnYhKBKmnlTsyP6_rD4WHnl-0o_IMNb6uuzoN-nqOhIrPORhSKhz7VwalBxc084adQzcOg3PpbiyJhLt9HIwf_FMQnros2Y3pPYPsupv-0XE2l9py4b8lnw2CrS4SL-KJIAf0voeRv2n1A_Ic3noaBmkVeeFoxrUPUOLMYMmh8UWMSAUfrhl_YsHU65e6XQ70IULGdJOq18jsVpvq88kFSUdMIg-kjz-lBY2AI-DIbSGgqIyyvXlbhmGCd8vs9ajvOh3eIEvRYDPWxEktB4ZeILlhXg=='\""
      ]
     },
     "execution_count": 12,
     "metadata": {},
     "output_type": "execute_result"
    }
   ],
   "source": [
    "data"
   ]
  },
  {
   "cell_type": "markdown",
   "id": "12af72e1-a027-4842-b494-0082ac53511b",
   "metadata": {},
   "source": [
    "### Verification process"
   ]
  },
  {
   "cell_type": "code",
   "execution_count": 13,
   "id": "8464f31e-9ad9-45b5-824f-23febff6370e",
   "metadata": {
    "tags": []
   },
   "outputs": [],
   "source": [
    "def verify_credential(encrypted_credential, key):\n",
    "    try:\n",
    "        f = Fernet(key)\n",
    "        decrypted_data = f.decrypt(encrypted_credential)\n",
    "        credential = json.loads(decrypted_data.decode('utf-8'))  # Decode the bytes object to string\n",
    "        \n",
    "        if verify_signature(credential):\n",
    "            print(\"Credential is valid and authentic.\")\n",
    "            return credential\n",
    "        else:\n",
    "            print(\"Invalid signature. Credential could be tampered with.\")\n",
    "            return None  # Explicitly return None when verification fails\n",
    "    except Exception as e:\n",
    "        print(f\"Error during verification: {str(e)}\")\n",
    "        return None  # Explicitly return None when an exception occurs\n",
    "\n",
    "def verify_signature(credential):\n",
    "    # Dummy function for signature verification\n",
    "    # In real implementation, this function should check the digital signature properly\n",
    "    return True  # Assuming signature is always valid for demonstration"
   ]
  },
  {
   "cell_type": "code",
   "execution_count": 14,
   "id": "2b25ef18-ea5a-4f47-8a8f-ff48082d6851",
   "metadata": {
    "tags": []
   },
   "outputs": [],
   "source": [
    "from urllib.parse import urlparse, parse_qs\n",
    "\n",
    "data = parse_qs(urlparse(data).query)['data'][0][2:-1]\n",
    "data = bytes(data, 'utf-8')"
   ]
  },
  {
   "cell_type": "code",
   "execution_count": 15,
   "id": "a37b73f0-a558-487d-8e56-6e5e3aca9b29",
   "metadata": {
    "tags": []
   },
   "outputs": [
    {
     "name": "stdout",
     "output_type": "stream",
     "text": [
      "Credential is valid and authentic.\n"
     ]
    },
    {
     "data": {
      "text/plain": [
       "{'context': 'https://www.w3.org/2018/credentials/v1',\n",
       " 'type': ['VerifiableCredential'],\n",
       " 'issuer': 'did:example:c6726827-21e5-474f-acce-d97ad8274e1f',\n",
       " 'credentialSubject': [{'id': 'did:example:3ebeff4e-aa90-4a13-8892-e095eefb2a09'},\n",
       "  {'id': 'did:example:9499ce3a-fd2c-4e9c-bbd9-fecf524a0dad'}]}"
      ]
     },
     "execution_count": 15,
     "metadata": {},
     "output_type": "execute_result"
    }
   ],
   "source": [
    "# Example usage\n",
    "decrypted_credential = verify_credential(data, key)\n",
    "decrypted_credential"
   ]
  },
  {
   "cell_type": "code",
   "execution_count": 16,
   "id": "ded9629d-acd7-43d7-809d-f729cbc6be4c",
   "metadata": {
    "tags": []
   },
   "outputs": [],
   "source": [
    "def authenticate(decrypted_credential, wallet):\n",
    "    id_exists = any(s1['id'] == subj['id'] for subj in decrypted_credential['credentialSubject'])\n",
    "    if id_exists:\n",
    "        print('Authentication Success\\n------------------------------------------\\n')\n",
    "        print(json.dumps(wallet, indent=2))\n",
    "    else:\n",
    "        print('Authentication Error')"
   ]
  },
  {
   "cell_type": "code",
   "execution_count": 17,
   "id": "de37d241-2379-4f52-ab08-04da317510d9",
   "metadata": {
    "tags": []
   },
   "outputs": [
    {
     "name": "stdout",
     "output_type": "stream",
     "text": [
      "Authentication Success\n",
      "------------------------------------------\n",
      "\n",
      "{\n",
      "  \"id\": \"did:example:3ebeff4e-aa90-4a13-8892-e095eefb2a09\",\n",
      "  \"name\": \"John Doe\",\n",
      "  \"studentId\": \"UNINotts-123456\",\n",
      "  \"course\": \"Computer Science\"\n",
      "}\n"
     ]
    }
   ],
   "source": [
    "authenticate(decrypted_credential,s1)"
   ]
  },
  {
   "cell_type": "markdown",
   "id": "b825501b-1e26-417c-82a5-429e2b876d87",
   "metadata": {},
   "source": [
    "### Saving wallets and key"
   ]
  },
  {
   "cell_type": "code",
   "execution_count": 18,
   "id": "1e418053-f5f9-4a24-93ea-c3d42b51693c",
   "metadata": {
    "tags": []
   },
   "outputs": [
    {
     "name": "stdout",
     "output_type": "stream",
     "text": [
      "Folder and files created successfully.\n"
     ]
    }
   ],
   "source": [
    "import os\n",
    "import json\n",
    "\n",
    "# Create a folder if it doesn't exist\n",
    "folder_path = \"streamlit/wallets\"\n",
    "if not os.path.exists(folder_path):\n",
    "    os.makedirs(folder_path)\n",
    "\n",
    "# Write each dictionary to a separate file\n",
    "for i, my_dict in enumerate([s1, s2], start=1):\n",
    "    file_path = os.path.join(folder_path, f\"wallet{i}.json\")\n",
    "    with open(file_path, 'w') as file:\n",
    "        json.dump(my_dict, file)\n",
    "\n",
    "print(\"Folder and files created successfully.\")"
   ]
  },
  {
   "cell_type": "code",
   "execution_count": 19,
   "id": "76e2af49-42bd-4d69-8788-fe37fbdd641f",
   "metadata": {
    "tags": []
   },
   "outputs": [
    {
     "name": "stdout",
     "output_type": "stream",
     "text": [
      "Byte string saved as file successfully.\n"
     ]
    }
   ],
   "source": [
    "# Create a folder if it doesn't exist\n",
    "folder_path = \"streamlit/key\"\n",
    "if not os.path.exists(folder_path):\n",
    "    os.makedirs(folder_path)\n",
    "\n",
    "# Define the file path\n",
    "file_path = os.path.join(folder_path, \"key.bin\")\n",
    "\n",
    "# Write the byte string to the file\n",
    "with open(file_path, 'wb') as file:\n",
    "    file.write(key)\n",
    "\n",
    "print(\"Byte string saved as file successfully.\")"
   ]
  },
  {
   "cell_type": "markdown",
   "id": "30e994fb-2379-428c-87c7-f082696f7b9f",
   "metadata": {},
   "source": [
    "### Creating executable streamlit app file"
   ]
  },
  {
   "cell_type": "code",
   "execution_count": 20,
   "id": "75d6a479-e187-496a-bc46-cf665d2aac0c",
   "metadata": {
    "tags": []
   },
   "outputs": [
    {
     "name": "stdout",
     "output_type": "stream",
     "text": [
      "Writing streamlit/app.py\n"
     ]
    }
   ],
   "source": [
    "%%writefile streamlit/app.py\n",
    "\n",
    "import streamlit as st\n",
    "from cryptography.fernet import Fernet\n",
    "import json\n",
    "import uuid\n",
    "\n",
    "# Function to extract query parameters\n",
    "def get_query_params():\n",
    "    query_params = st.query_params\n",
    "    return query_params\n",
    "\n",
    "# Function to read JSON file and parse as dictionary\n",
    "def read_json_file(file_path):\n",
    "    with open(file_path, 'r') as file:\n",
    "        data = json.load(file)\n",
    "    return data\n",
    "\n",
    "# Authentication process\n",
    "def verify_credential(encrypted_credential, key):\n",
    "    try:\n",
    "        f = Fernet(key)\n",
    "        decrypted_data = f.decrypt(encrypted_credential)\n",
    "        credential = json.loads(decrypted_data.decode('utf-8'))  # Decode the bytes object to string\n",
    "        \n",
    "        if verify_signature(credential):\n",
    "            print(\"Credential is valid and authentic.\")\n",
    "            return credential\n",
    "        else:\n",
    "            print(\"Invalid signature. Credential could be tampered with.\")\n",
    "            return None  # Explicitly return None when verification fails\n",
    "    except Exception as e:\n",
    "        print(f\"Error during verification: {str(e)}\")\n",
    "        return None  # Explicitly return None when an exception occurs\n",
    "\n",
    "def verify_signature(credential):\n",
    "    # Dummy function for signature verification\n",
    "    # In real implementation, this function should check the digital signature properly\n",
    "    return True  # Assuming signature is always valid for demonstration\n",
    "\n",
    "def authenticate(decrypted_credential, wallet):\n",
    "    id_exists = any(wallet['id'] == subj['id'] for subj in decrypted_credential['credentialSubject'])\n",
    "    if id_exists:\n",
    "        # print('Authentication Success\\n------------------------------------------\\n')\n",
    "        # return json.dumps(wallet, indent=2)\n",
    "        return wallet\n",
    "    else:\n",
    "        # print('Authentication Error')\n",
    "        return 'No data'\n",
    "\n",
    "# Main application\n",
    "def main():\n",
    "    st.title('NOTTS ID')\n",
    "    \n",
    "    # Get the data from the URL query parameter\n",
    "    query_params = get_query_params()\n",
    "    data = query_params.get('data', 'No data provided')+\"'\"\n",
    "    data = bytes(data[2:-1], 'utf-8')\n",
    "    \n",
    "    # Display the decoded data\n",
    "    st.header('Select information to share')\n",
    "    \n",
    "    # # Allow user to input a key\n",
    "    # key = st.text_input(\"Enter Key:\", \"\")\n",
    "    # key = bytes(key, 'utf-8')\n",
    "    \n",
    "    # Sharing Data\n",
    "    wallet = st.number_input('Enter wallet number:',1)\n",
    "    useName = st.checkbox(\"Name\")\n",
    "    useStudentId = st.checkbox(\"Student ID\")\n",
    "    useCourse = st.checkbox(\"Course\")\n",
    "    \n",
    "    # Read JSON file and parse as dictionary\n",
    "    file_path_wallet = f\"wallets/wallet{wallet}.json\"\n",
    "    s1 = read_json_file(file_path_wallet)\n",
    "    \n",
    "    # Read the byte string from the file\n",
    "    file_path_key = f\"key/key.bin\"\n",
    "    with open(file_path_key, 'rb') as file:\n",
    "        key = file.read()\n",
    "    \n",
    "    # Process the data with the key\n",
    "    if st.button(\"Process Data\"):\n",
    "        # st.write(data)\n",
    "        # st.write(key)\n",
    "        \n",
    "        decrypted_credential = verify_credential(data, key)\n",
    "        result = authenticate(decrypted_credential, s1)\n",
    "        \n",
    "        # Filtered dictionary\n",
    "        all_keys = result.keys()\n",
    "        keys_to_use = [False, useName, useStudentId, useCourse]\n",
    "        filtered_dict = {key: value for key, value in result.items() if keys_to_use[list(all_keys).index(key)]}\n",
    "        \n",
    "        # Convert filtered dictionary to JSON\n",
    "        json_data = json.dumps(filtered_dict)\n",
    "        \n",
    "        st.header('Result')\n",
    "        st.json(json_data)\n",
    "        \n",
    "\n",
    "\n",
    "if __name__ == \"__main__\":\n",
    "    main()"
   ]
  },
  {
   "cell_type": "code",
   "execution_count": 21,
   "id": "b2fd9666-85c5-4dee-931b-f994e25475b2",
   "metadata": {
    "tags": []
   },
   "outputs": [],
   "source": [
    "# !pip install Flask"
   ]
  },
  {
   "cell_type": "code",
   "execution_count": 22,
   "id": "250c7ee8-0c62-4f47-bdca-e6875cec3e07",
   "metadata": {
    "tags": []
   },
   "outputs": [],
   "source": [
    "# from flask import Flask, request, render_template\n",
    "\n",
    "# app = Flask(__name__)\n",
    "\n",
    "# @app.route('/decode')\n",
    "# def decode():\n",
    "#     data = request.args.get('data', '')\n",
    "#     # You can add your decoding algorithm here\n",
    "#     decoded_data = data  # Placeholder for your decoding process\n",
    "#     return render_template('decoded.html', decoded_data=decoded_data)\n",
    "\n",
    "# if __name__ == '__main__':\n",
    "#     app.run(debug=True, host='0.0.0.0', use_reloader=False)\n"
   ]
  },
  {
   "cell_type": "code",
   "execution_count": 23,
   "id": "e1f298ae-dc33-4432-9f86-e0bf18c324c4",
   "metadata": {
    "tags": []
   },
   "outputs": [],
   "source": [
    "# !pip install streamlit"
   ]
  },
  {
   "cell_type": "code",
   "execution_count": 24,
   "id": "722dd4c6-8673-4664-9233-5cdf67b0cd7f",
   "metadata": {
    "tags": []
   },
   "outputs": [],
   "source": [
    "# import streamlit as st\n",
    "# from urllib.parse import urlparse, parse_qs\n",
    "\n",
    "# # Function to extract query parameters\n",
    "# def get_query_params():\n",
    "#     query_params = parse_qs(urlparse(st.experimental_get_query_params()).query)\n",
    "#     return {key: value[0] for key, value in query_params.items()}\n",
    "\n",
    "# # Main application\n",
    "# def main():\n",
    "#     st.title('QR Code Decoder')\n",
    "    \n",
    "#     # Get the data from the URL query parameter\n",
    "#     query_params = get_query_params()\n",
    "#     data = query_params.get('data', 'No data provided')\n",
    "    \n",
    "#     # Display the decoded data\n",
    "#     st.header('Decoded Data')\n",
    "#     st.write(data)\n",
    "    \n",
    "#     # Here, you could add your algorithm to further decode/process 'data'\n",
    "#     # processed_data = your_decode_function(data)\n",
    "#     # st.write(processed_data)\n",
    "\n",
    "# if __name__ == \"__main__\":\n",
    "#     main()"
   ]
  }
 ],
 "metadata": {
  "kernelspec": {
   "display_name": "Python 3 (ipykernel)",
   "language": "python",
   "name": "python3"
  },
  "language_info": {
   "codemirror_mode": {
    "name": "ipython",
    "version": 3
   },
   "file_extension": ".py",
   "mimetype": "text/x-python",
   "name": "python",
   "nbconvert_exporter": "python",
   "pygments_lexer": "ipython3",
   "version": "3.11.5"
  }
 },
 "nbformat": 4,
 "nbformat_minor": 5
}
