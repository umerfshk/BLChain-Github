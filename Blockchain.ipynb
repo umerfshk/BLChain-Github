{
 "cells": [
  {
   "cell_type": "code",
   "execution_count": 1,
   "id": "48a7a7f3-bc51-4e61-b414-5c35fd2aaa64",
   "metadata": {
    "tags": []
   },
   "outputs": [],
   "source": [
    "# !pip install qrcode"
   ]
  },
  {
   "cell_type": "code",
   "execution_count": 20,
   "id": "50690349-8fd4-489e-842a-74719cf7bb49",
   "metadata": {
    "tags": []
   },
   "outputs": [],
   "source": [
    "import json\n",
    "import uuid\n",
    "import qrcode\n",
    "from cryptography.fernet import Fernet\n",
    "\n",
    "# Generate a unique decentralized identifier (DID)\n",
    "def generate_did():\n",
    "    return f\"did:example:{uuid.uuid4()}\"\n",
    "\n",
    "# Encrypt data to simulate cryptographic proof\n",
    "def encrypt_data(data, key):\n",
    "    f = Fernet(key)\n",
    "    encrypted_data = f.encrypt(data.encode())\n",
    "    return encrypted_data\n",
    "\n",
    "# Decrypt data\n",
    "def decrypt_data(encrypted_data, key):\n",
    "    f = Fernet(key)\n",
    "    decrypted_data = f.decrypt(encrypted_data).decode()\n",
    "    return decrypted_data\n",
    "\n",
    "# Create a verifiable credential\n",
    "def create_verifiable_credential(student_info, issuer, key):\n",
    "    credential = {\n",
    "        \"context\": \"https://www.w3.org/2018/credentials/v1\",\n",
    "        \"type\": [\"VerifiableCredential\"],\n",
    "        \"issuer\": issuer,\n",
    "        \"credentialSubject\": student_info,\n",
    "    }\n",
    "    serialized_credential = json.dumps(credential, indent=2)\n",
    "    encrypted_credential = encrypt_data(serialized_credential, key)\n",
    "    return encrypted_credential\n",
    "\n",
    "# Generate QR Code for any text\n",
    "def generate_qr_code(data):\n",
    "    qr = qrcode.QRCode(\n",
    "        version=1,\n",
    "        error_correction=qrcode.constants.ERROR_CORRECT_L,\n",
    "        box_size=10,\n",
    "        border=4,\n",
    "    )\n",
    "    qr.add_data(data)\n",
    "    qr.make(fit=True)\n",
    "    img = qr.make_image(fill_color=\"black\", back_color=\"white\")\n",
    "    img.save(\"did_qr_code.png\")  # Saving the QR code to a file\n",
    "    return \"QR code generated and saved as did_qr_code.png\"\n",
    "\n",
    "# Main function to create a DID and VC\n",
    "def main(student_info):\n",
    "    # Generate cryptographic key\n",
    "    key = Fernet.generate_key()\n",
    "    \n",
    "    # University and student info\n",
    "    university_did = generate_did()\n",
    "    \n",
    "    # For demonstration\n",
    "    # since we used all wallet information, we just have to keep 'id' key to simulate real implementation\n",
    "    keys_to_keep = ['id']\n",
    "    student_info = [{k: v for k, v in d.items() if k in keys_to_keep} for d in student_info]\n",
    "    # Create the VC\n",
    "    encrypted_vc = create_verifiable_credential(student_info, university_did, key)\n",
    "    print(\"Encrypted Verifiable Credential:\")\n",
    "    print(encrypted_vc)\n",
    "    \n",
    "    # Decrypting the VC for display\n",
    "    decrypted_vc = decrypt_data(encrypted_vc, key)\n",
    "    print(\"\\nDecrypted Verifiable Credential:\")\n",
    "    print(decrypted_vc) \n",
    "\n",
    "    # Generate QR Code for the DID\n",
    "    qr_code_message = generate_qr_code(encrypted_vc)\n",
    "    print(qr_code_message)\n",
    "\n",
    "    return key\n"
   ]
  },
  {
   "cell_type": "markdown",
   "id": "8c80e833-7326-4971-b9a0-7e8b3c6441a3",
   "metadata": {},
   "source": [
    "### generate wallets"
   ]
  },
  {
   "cell_type": "code",
   "execution_count": 21,
   "id": "d2328c36-14a6-4703-958f-2504168037eb",
   "metadata": {
    "tags": []
   },
   "outputs": [],
   "source": [
    "s1= {\"id\": generate_did(),\n",
    "     \"name\": \"John Doe\",\n",
    "     \"studentId\": \"UNINotts-123456\",\n",
    "     \"course\": \"Computer Science\",\n",
    "    }\n",
    "\n",
    "s2= {\"id\": generate_did(),\n",
    "     \"name\": \"John Doe\",\n",
    "     \"studentId\": \"UNINotts-123456\",\n",
    "     \"course\": \"Computer Science\",\n",
    "    }"
   ]
  },
  {
   "cell_type": "code",
   "execution_count": 23,
   "id": "26fe9d31-1a52-4b52-acf2-f901c13196f7",
   "metadata": {
    "tags": []
   },
   "outputs": [
    {
     "name": "stdout",
     "output_type": "stream",
     "text": [
      "Encrypted Verifiable Credential:\n",
      "b'gAAAAABmMuHh0g9AP-n8AfGU0VpJZPbK84UUkp_ssCfrui-WZVdNMnonL9xWCdKiQKMt00cMioz3j7zTAd--A7wTyqVWeSHFGcD-qP3DUY5ExynHU5KIMvp-Y6nwcfRUnqQ4mmJSs0QD-VvjaPK7YCKdJv2IbDw4HiCNQ2vDxLSM6hfj3fdhsEk4Z5nMf81mclquCKcD5Hj1ANRWSocXl4stbvLcbT037Wt0Gdzd16gnxpZzYCBjaNU0w5hx3tQHuCvZqxOFMN9bFU1cpwCsqrY_vnpBgBB40NNt8ygPCiPPl35brEiocbseV5KFrXN-lwODYvqJZHbEk0MjwDY5IyB-1hYeCp4Fy6WJbiIPEWhEPaI7zJmMsyevGw4ZJL4hQZVTLuJNnNd3lmUNGU9yozX-UTp60LQlATzQ5ILAuhWyxWwcUC8aNHdhbgb_3IVA33_Bv9AWM9NpppHqvAGHB7Clks9SBisFmmsYrmpfD-UbB3w30HZ-DWVqk6LpyhYMxcc8H3Xks_YdgI12iWm2fP5L4KzVmNprmw=='\n",
      "\n",
      "Decrypted Verifiable Credential:\n",
      "{\n",
      "  \"context\": \"https://www.w3.org/2018/credentials/v1\",\n",
      "  \"type\": [\n",
      "    \"VerifiableCredential\"\n",
      "  ],\n",
      "  \"issuer\": \"did:example:78899c65-a183-46b3-b95f-fe2f75604466\",\n",
      "  \"credentialSubject\": [\n",
      "    {\n",
      "      \"id\": \"did:example:71d48976-2035-44b5-93c1-60f2d7ac9fcf\"\n",
      "    },\n",
      "    {\n",
      "      \"id\": \"did:example:a7f227c9-6dd1-4bd4-85e1-2f2146c479e5\"\n",
      "    }\n",
      "  ]\n",
      "}\n",
      "QR code generated and saved as did_qr_code.png\n"
     ]
    }
   ],
   "source": [
    "student_info = [s1,s2]\n",
    "key = main(student_info)"
   ]
  },
  {
   "cell_type": "code",
   "execution_count": null,
   "id": "3e62d39f-6efb-445f-b526-971a2d0256e9",
   "metadata": {},
   "outputs": [],
   "source": []
  },
  {
   "cell_type": "markdown",
   "id": "3df66bf0-6702-470f-b172-b9110a6c0f21",
   "metadata": {},
   "source": [
    "### Reading qr code"
   ]
  },
  {
   "cell_type": "code",
   "execution_count": 24,
   "id": "38e011d4-941a-47eb-9b19-5417fbebd069",
   "metadata": {
    "tags": []
   },
   "outputs": [],
   "source": [
    "# !pip install pillow"
   ]
  },
  {
   "cell_type": "code",
   "execution_count": 25,
   "id": "728528f7-be75-42b1-8051-2ddeb75cb2aa",
   "metadata": {
    "tags": []
   },
   "outputs": [],
   "source": [
    "# !pip install opencv-python"
   ]
  },
  {
   "cell_type": "code",
   "execution_count": 26,
   "id": "71605d54-0229-47bc-a4c2-9ce94f6f60b8",
   "metadata": {
    "tags": []
   },
   "outputs": [],
   "source": [
    "# !pip install pyzbar"
   ]
  },
  {
   "cell_type": "code",
   "execution_count": 27,
   "id": "78d1fdac-54d6-4bf3-855b-a34c26ac646b",
   "metadata": {
    "tags": []
   },
   "outputs": [],
   "source": [
    "import cv2\n",
    "from pyzbar import pyzbar"
   ]
  },
  {
   "cell_type": "code",
   "execution_count": 28,
   "id": "b74a22e4-ccc5-4b62-8318-8b484526f8d9",
   "metadata": {
    "tags": []
   },
   "outputs": [],
   "source": [
    "trial_img= cv2.imread('did_qr_code.png')\n",
    "qcd = cv2.QRCodeDetector()\n",
    "data, bbox, _ = qcd.detectAndDecode(trial_img)"
   ]
  },
  {
   "cell_type": "code",
   "execution_count": 29,
   "id": "38c64955-4aaf-46e6-9b43-b2c301ad6424",
   "metadata": {
    "tags": []
   },
   "outputs": [
    {
     "data": {
      "text/plain": [
       "'gAAAAABmMuHh0g9AP-n8AfGU0VpJZPbK84UUkp_ssCfrui-WZVdNMnonL9xWCdKiQKMt00cMioz3j7zTAd--A7wTyqVWeSHFGcD-qP3DUY5ExynHU5KIMvp-Y6nwcfRUnqQ4mmJSs0QD-VvjaPK7YCKdJv2IbDw4HiCNQ2vDxLSM6hfj3fdhsEk4Z5nMf81mclquCKcD5Hj1ANRWSocXl4stbvLcbT037Wt0Gdzd16gnxpZzYCBjaNU0w5hx3tQHuCvZqxOFMN9bFU1cpwCsqrY_vnpBgBB40NNt8ygPCiPPl35brEiocbseV5KFrXN-lwODYvqJZHbEk0MjwDY5IyB-1hYeCp4Fy6WJbiIPEWhEPaI7zJmMsyevGw4ZJL4hQZVTLuJNnNd3lmUNGU9yozX-UTp60LQlATzQ5ILAuhWyxWwcUC8aNHdhbgb_3IVA33_Bv9AWM9NpppHqvAGHB7Clks9SBisFmmsYrmpfD-UbB3w30HZ-DWVqk6LpyhYMxcc8H3Xks_YdgI12iWm2fP5L4KzVmNprmw=='"
      ]
     },
     "execution_count": 29,
     "metadata": {},
     "output_type": "execute_result"
    }
   ],
   "source": [
    "data"
   ]
  },
  {
   "cell_type": "code",
   "execution_count": null,
   "id": "10960987-8e26-4c86-94eb-8e4e8d69c381",
   "metadata": {
    "tags": []
   },
   "outputs": [],
   "source": []
  },
  {
   "cell_type": "markdown",
   "id": "12af72e1-a027-4842-b494-0082ac53511b",
   "metadata": {},
   "source": [
    "### Verification process"
   ]
  },
  {
   "cell_type": "code",
   "execution_count": 30,
   "id": "8464f31e-9ad9-45b5-824f-23febff6370e",
   "metadata": {
    "tags": []
   },
   "outputs": [],
   "source": [
    "def verify_credential(encrypted_credential, key):\n",
    "    try:\n",
    "        f = Fernet(key)\n",
    "        decrypted_data = f.decrypt(encrypted_credential)\n",
    "        credential = json.loads(decrypted_data.decode('utf-8'))  # Decode the bytes object to string\n",
    "        \n",
    "        if verify_signature(credential):\n",
    "            print(\"Credential is valid and authentic.\")\n",
    "            return credential\n",
    "        else:\n",
    "            print(\"Invalid signature. Credential could be tampered with.\")\n",
    "            return None  # Explicitly return None when verification fails\n",
    "    except Exception as e:\n",
    "        print(f\"Error during verification: {str(e)}\")\n",
    "        return None  # Explicitly return None when an exception occurs\n",
    "\n",
    "def verify_signature(credential):\n",
    "    # Dummy function for signature verification\n",
    "    # In real implementation, this function should check the digital signature properly\n",
    "    return True  # Assuming signature is always valid for demonstration"
   ]
  },
  {
   "cell_type": "code",
   "execution_count": 31,
   "id": "a37b73f0-a558-487d-8e56-6e5e3aca9b29",
   "metadata": {
    "tags": []
   },
   "outputs": [
    {
     "name": "stdout",
     "output_type": "stream",
     "text": [
      "Credential is valid and authentic.\n"
     ]
    },
    {
     "data": {
      "text/plain": [
       "{'context': 'https://www.w3.org/2018/credentials/v1',\n",
       " 'type': ['VerifiableCredential'],\n",
       " 'issuer': 'did:example:78899c65-a183-46b3-b95f-fe2f75604466',\n",
       " 'credentialSubject': [{'id': 'did:example:71d48976-2035-44b5-93c1-60f2d7ac9fcf'},\n",
       "  {'id': 'did:example:a7f227c9-6dd1-4bd4-85e1-2f2146c479e5'}]}"
      ]
     },
     "execution_count": 31,
     "metadata": {},
     "output_type": "execute_result"
    }
   ],
   "source": [
    "# Example usage\n",
    "decrypted_credential = verify_credential(data, key)\n",
    "decrypted_credential"
   ]
  },
  {
   "cell_type": "code",
   "execution_count": 40,
   "id": "ded9629d-acd7-43d7-809d-f729cbc6be4c",
   "metadata": {
    "tags": []
   },
   "outputs": [],
   "source": [
    "def authenticate(decrypted_credential, wallet):\n",
    "    id_exists = any(s1['id'] == subj['id'] for subj in decrypted_credential['credentialSubject'])\n",
    "    if id_exists:\n",
    "        print('Authentication Success\\n------------------------------------------\\n')\n",
    "        print(json.dumps(wallet))\n",
    "    else:\n",
    "        print('Authentication Error')"
   ]
  },
  {
   "cell_type": "code",
   "execution_count": 41,
   "id": "de37d241-2379-4f52-ab08-04da317510d9",
   "metadata": {
    "tags": []
   },
   "outputs": [
    {
     "name": "stdout",
     "output_type": "stream",
     "text": [
      "Authentication Success\n",
      "------------------------------------------\n",
      "\n",
      "{\"id\": \"did:example:71d48976-2035-44b5-93c1-60f2d7ac9fcf\", \"name\": \"John Doe\", \"studentId\": \"UNINotts-123456\", \"course\": \"Computer Science\"}\n"
     ]
    }
   ],
   "source": [
    "authenticate(decrypted_credential,s1)"
   ]
  },
  {
   "cell_type": "code",
   "execution_count": null,
   "id": "da7efae3-93aa-425c-8371-649a3016f18e",
   "metadata": {},
   "outputs": [],
   "source": []
  }
 ],
 "metadata": {
  "kernelspec": {
   "display_name": "Python 3 (ipykernel)",
   "language": "python",
   "name": "python3"
  },
  "language_info": {
   "codemirror_mode": {
    "name": "ipython",
    "version": 3
   },
   "file_extension": ".py",
   "mimetype": "text/x-python",
   "name": "python",
   "nbconvert_exporter": "python",
   "pygments_lexer": "ipython3",
   "version": "3.11.5"
  }
 },
 "nbformat": 4,
 "nbformat_minor": 5
}
