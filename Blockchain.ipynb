{
 "cells": [
  {
   "cell_type": "code",
   "execution_count": 1,
   "id": "bf738c2e-0b5d-4713-910d-4b239aa277f8",
   "metadata": {
    "tags": []
   },
   "outputs": [
    {
     "name": "stdout",
     "output_type": "stream",
     "text": [
      "Encrypted Verifiable Credential:\n",
      "b'gAAAAABmMmxiSI5GwUKJeJf00d1LgIAyK3rDAxq8c1nUi4YW-iiwGv4vsju_NoMCmEoLzze3CfXb26y1jqTHCLWBVMt89HcDX57nDFZqLkhZKAwg4N0mP6QibtUM5D9YmKmDWfQvyDJVDlZi0HYEXU4upvhNRj5BBYAOoM6f0DvzP4GOXh-9w29481qapK9AB7amhSB5s3iOeUtQiDRYrcsPRSAq9OtpE4VEuwdiNrQMUSnoXES7DeAfqkWhwA8EA8PZxB5S8-MVmEnOswdIbEWFjDKRupNJWsSISYv8fTNLZrHjAJWcjU9OHFDJlvFH8_nVszy6PZALXJXoEBy7H1L1pYveqtC9HNqRe5-ajUh_9f0KjI3otnhnrBGLxxX8rdAV91r0eVAnoc2HFMgtxNE1EpATFDpdgVS6GKG0zb3_SEz2UFUA9ApiBwMr_TwCVOmM5pfIHeinRLUkjw-htALSb_ln-SVZ52tomQz2h5b-l9TT5MKuEY6XhLI7YrqoI5x_ax1IBWUupbf3jcA4XAFiARdNv6YbEQ=='\n",
      "\n",
      "Decrypted Verifiable Credential:\n",
      "{\n",
      "  \"context\": \"https://www.w3.org/2018/credentials/v1\",\n",
      "  \"type\": [\n",
      "    \"VerifiableCredential\"\n",
      "  ],\n",
      "  \"issuer\": \"did:example:9bc14b2c-4875-494b-bacd-568ad0744362\",\n",
      "  \"credentialSubject\": {\n",
      "    \"id\": \"did:example:672594b3-dd95-4860-9c54-454a4eeea0b3\",\n",
      "    \"name\": \"John Doe\",\n",
      "    \"studentId\": \"UNINotts-123456\",\n",
      "    \"course\": \"Computer Science\"\n",
      "  }\n",
      "}\n"
     ]
    }
   ],
   "source": [
    "import json\n",
    "import uuid\n",
    "from cryptography.fernet import Fernet\n",
    "\n",
    "# Generate a unique decentralized identifier (DID)\n",
    "def generate_did():\n",
    "    return f\"did:example:{uuid.uuid4()}\"\n",
    "\n",
    "# Encrypt data to simulate cryptographic proof\n",
    "def encrypt_data(data, key):\n",
    "    f = Fernet(key)\n",
    "    encrypted_data = f.encrypt(data.encode())\n",
    "    return encrypted_data\n",
    "\n",
    "# Decrypt data\n",
    "def decrypt_data(encrypted_data, key):\n",
    "    f = Fernet(key)\n",
    "    decrypted_data = f.decrypt(encrypted_data).decode()\n",
    "    return decrypted_data\n",
    "\n",
    "# Create a verifiable credential\n",
    "def create_verifiable_credential(student_info, issuer, key):\n",
    "    credential = {\n",
    "        \"context\": \"https://www.w3.org/2018/credentials/v1\",\n",
    "        \"type\": [\"VerifiableCredential\"],\n",
    "        \"issuer\": issuer,\n",
    "        \"credentialSubject\": student_info,\n",
    "    }\n",
    "    serialized_credential = json.dumps(credential, indent=2)\n",
    "    encrypted_credential = encrypt_data(serialized_credential, key)\n",
    "    return encrypted_credential\n",
    "\n",
    "# Main function to create a DID and VC\n",
    "def main():\n",
    "    # Generate cryptographic key\n",
    "    key = Fernet.generate_key()\n",
    "    \n",
    "    # University and student info\n",
    "    university_did = generate_did()\n",
    "    student_info = {\n",
    "        \"id\": generate_did(),\n",
    "        \"name\": \"John Doe\",\n",
    "        \"studentId\": \"UNINotts-123456\",\n",
    "        \"course\": \"Computer Science\"\n",
    "    }\n",
    "\n",
    "    # Create the VC\n",
    "    encrypted_vc = create_verifiable_credential(student_info, university_did, key)\n",
    "    print(\"Encrypted Verifiable Credential:\")\n",
    "    print(encrypted_vc)\n",
    "    \n",
    "    # Decrypting the VC for display\n",
    "    decrypted_vc = decrypt_data(encrypted_vc, key)\n",
    "    print(\"\\nDecrypted Verifiable Credential:\")\n",
    "    print(decrypted_vc)\n",
    "\n",
    "if __name__ == \"__main__\":\n",
    "    main()\n"
   ]
  },
  {
   "cell_type": "code",
   "execution_count": 2,
   "id": "48a7a7f3-bc51-4e61-b414-5c35fd2aaa64",
   "metadata": {
    "tags": []
   },
   "outputs": [],
   "source": [
    "# !pip install qrcode"
   ]
  },
  {
   "cell_type": "code",
   "execution_count": 3,
   "id": "50690349-8fd4-489e-842a-74719cf7bb49",
   "metadata": {
    "tags": []
   },
   "outputs": [
    {
     "name": "stdout",
     "output_type": "stream",
     "text": [
      "Encrypted Verifiable Credential:\n",
      "b'gAAAAABmMmxkCtRFPkIRs1ejg6pxu2djH6ntTWm_F-KwEFKX-fZxe1qGPfsh-d25emt1_aTFIpDHlVBpIBDM9SGcorGz3-5kjHW8nN2A9DysnsaI63MAUoYjXtS0IFuxMgTMY7Y3Khn8CMDVngnh_DzAwvZTlCf6hQhshUeF0Z_65Voxwor-Ss6pFWnSSA2CQLJ18rHWJ7aEhR5Hyj3aN48e7nd-fQdavqtaKM0-rPAMrs1AO2jPqPn1Uvc0iaUHyGFDjNqhWkjPDP601sjuIJzLuEJTBqtqhQTUQtS0h0D_VUEIB6Fsbrq6Gln5LZ82YpaV1Go4uSmVO-pOueFCfcwZF6h-apJCxd0CqTbU5aQQ_qo1K9cqMYrncGT5CThfBpO_Cc2lqSpT9yxey0CdDqFoM6KPi_EWyPCAh1doWq2LJLWW5E57U6Kisn0IymUyE6Lih_9DxoLVXPqVxvNZVowxSEXljU0dU35lUdiaVe3RZkgDPNYtLC_qkbO9YIxVHSfBDiqpr5_ZxBKHA8UDXUPMq_3kbgVQEQ=='\n",
      "\n",
      "Decrypted Verifiable Credential:\n",
      "{\n",
      "  \"context\": \"https://www.w3.org/2018/credentials/v1\",\n",
      "  \"type\": [\n",
      "    \"VerifiableCredential\"\n",
      "  ],\n",
      "  \"issuer\": \"did:example:9ab182e8-687a-434c-b461-54119801c048\",\n",
      "  \"credentialSubject\": {\n",
      "    \"id\": \"did:example:0c017f89-63b8-4fc0-929a-35534e939cc3\",\n",
      "    \"name\": \"John Doe\",\n",
      "    \"studentId\": \"UNINotts-123456\",\n",
      "    \"course\": \"Computer Science\"\n",
      "  }\n",
      "}\n",
      "QR code generated and saved as did_qr_code.png\n"
     ]
    }
   ],
   "source": [
    "import json\n",
    "import uuid\n",
    "import qrcode\n",
    "from cryptography.fernet import Fernet\n",
    "\n",
    "# Generate a unique decentralized identifier (DID)\n",
    "def generate_did():\n",
    "    return f\"did:example:{uuid.uuid4()}\"\n",
    "\n",
    "# Encrypt data to simulate cryptographic proof\n",
    "def encrypt_data(data, key):\n",
    "    f = Fernet(key)\n",
    "    encrypted_data = f.encrypt(data.encode())\n",
    "    return encrypted_data\n",
    "\n",
    "# Decrypt data\n",
    "def decrypt_data(encrypted_data, key):\n",
    "    f = Fernet(key)\n",
    "    decrypted_data = f.decrypt(encrypted_data).decode()\n",
    "    return decrypted_data\n",
    "\n",
    "# Create a verifiable credential\n",
    "def create_verifiable_credential(student_info, issuer, key):\n",
    "    credential = {\n",
    "        \"context\": \"https://www.w3.org/2018/credentials/v1\",\n",
    "        \"type\": [\"VerifiableCredential\"],\n",
    "        \"issuer\": issuer,\n",
    "        \"credentialSubject\": student_info,\n",
    "    }\n",
    "    serialized_credential = json.dumps(credential, indent=2)\n",
    "    encrypted_credential = encrypt_data(serialized_credential, key)\n",
    "    return encrypted_credential\n",
    "\n",
    "# Generate QR Code for any text\n",
    "def generate_qr_code(data):\n",
    "    qr = qrcode.QRCode(\n",
    "        version=1,\n",
    "        error_correction=qrcode.constants.ERROR_CORRECT_L,\n",
    "        box_size=10,\n",
    "        border=4,\n",
    "    )\n",
    "    qr.add_data(data)\n",
    "    qr.make(fit=True)\n",
    "    img = qr.make_image(fill_color=\"black\", back_color=\"white\")\n",
    "    img.save(\"did_qr_code.png\")  # Saving the QR code to a file\n",
    "    return \"QR code generated and saved as did_qr_code.png\"\n",
    "\n",
    "# Main function to create a DID and VC\n",
    "def main():\n",
    "    # Generate cryptographic key\n",
    "    key = Fernet.generate_key()\n",
    "    \n",
    "    # University and student info\n",
    "    university_did = generate_did()\n",
    "    student_info = {\n",
    "        \"id\": generate_did(),\n",
    "        \"name\": \"John Doe\",\n",
    "        \"studentId\": \"UNINotts-123456\",\n",
    "        \"course\": \"Computer Science\"\n",
    "    }\n",
    "\n",
    "    # Create the VC\n",
    "    encrypted_vc = create_verifiable_credential(student_info, university_did, key)\n",
    "    print(\"Encrypted Verifiable Credential:\")\n",
    "    print(encrypted_vc)\n",
    "    \n",
    "    # Decrypting the VC for display\n",
    "    decrypted_vc = decrypt_data(encrypted_vc, key)\n",
    "    print(\"\\nDecrypted Verifiable Credential:\")\n",
    "    print(decrypted_vc) \n",
    "\n",
    "    # Generate QR Code for the DID\n",
    "    qr_code_message = generate_qr_code(json.dumps(student_info))\n",
    "    print(qr_code_message)\n",
    "\n",
    "if __name__ == \"__main__\":\n",
    "    main()\n"
   ]
  },
  {
   "cell_type": "code",
   "execution_count": 4,
   "id": "c4532220-2aae-48d8-9c94-f4ad6b7575c4",
   "metadata": {
    "tags": []
   },
   "outputs": [
    {
     "name": "stdout",
     "output_type": "stream",
     "text": [
      "Encrypted Verifiable Credential:\n",
      "b'gAAAAABmMmxluA15iukT-2fA5wVJGgLacybq8cSrC8okAvzF9c284deBzM35nRED2I_dG74oZFjeaXUiHYVVi8mPPrPkgCMRr9nCV0es2KPJfqhh7l4cZ8IKoxGVxf-AdEnsnm1xZ4AsT_xtlyLW2MMCAm0Ujt20GP59ZtlPBqaKHYqLQpoy3Whl43URD8WjbY0_WphaGMJIw5tYI955SnASnLP62P54aCqNHvquLjCKGi9Bbi-xop76xtDC9oQ7WVW02a7ssLPPNea5og-MqNE6GT9fyRr-y99EQXV1lcmpd51FoEhnyhSDT3Y8Sy3aY1Ri4gNcL8IJv7vnmRPbhVAquahHCmuxE27O2w6oLDXfE0PzpVCGBI2potEgYIfAwP55yYrujwqDJqgnJBce9DPp2eZC9TlAoWFVqOWd7qIX63JBCOxuSh8ML9Ny0vXCSOdFaB7xxQjTBghk8c86QdwogI0K2F7pZd4QZRs3TAFvXGBwxajbUAYY7nnYTTmJIWaIGmAFz3SAlpP7KTvuyKdSfZxzugXGjg=='\n",
      "\n",
      "Decrypted Verifiable Credential:\n",
      "{\n",
      "  \"context\": \"https://www.w3.org/2018/credentials/v1\",\n",
      "  \"type\": [\n",
      "    \"VerifiableCredential\"\n",
      "  ],\n",
      "  \"issuer\": \"did:example:1691d8c0-15c6-4142-be1a-522df01281e5\",\n",
      "  \"credentialSubject\": {\n",
      "    \"id\": \"did:example:f7258e72-55a4-48db-8742-a95fb6bf3577\",\n",
      "    \"name\": \"John Doe\",\n",
      "    \"studentId\": \"UNINotts-123456\",\n",
      "    \"course\": \"Computer Science\"\n",
      "  }\n",
      "}\n"
     ]
    }
   ],
   "source": [
    "# Generate cryptographic key\n",
    "key = Fernet.generate_key()\n",
    "\n",
    "# University and student info\n",
    "university_did = generate_did()\n",
    "student_info = {\n",
    "    \"id\": generate_did(),\n",
    "    \"name\": \"John Doe\",\n",
    "    \"studentId\": \"UNINotts-123456\",\n",
    "    \"course\": \"Computer Science\"\n",
    "}\n",
    "\n",
    "# Create the VC\n",
    "encrypted_vc = create_verifiable_credential(student_info, university_did, key)\n",
    "print(\"Encrypted Verifiable Credential:\")\n",
    "print(encrypted_vc)\n",
    "\n",
    "# Decrypting the VC for display\n",
    "decrypted_vc = decrypt_data(encrypted_vc, key)\n",
    "print(\"\\nDecrypted Verifiable Credential:\")\n",
    "print(decrypted_vc) "
   ]
  },
  {
   "cell_type": "code",
   "execution_count": 5,
   "id": "2737ec22-e2e1-442d-8558-93554eda309f",
   "metadata": {
    "tags": []
   },
   "outputs": [
    {
     "data": {
      "text/plain": [
       "b'gAAAAABmMmxluA15iukT-2fA5wVJGgLacybq8cSrC8okAvzF9c284deBzM35nRED2I_dG74oZFjeaXUiHYVVi8mPPrPkgCMRr9nCV0es2KPJfqhh7l4cZ8IKoxGVxf-AdEnsnm1xZ4AsT_xtlyLW2MMCAm0Ujt20GP59ZtlPBqaKHYqLQpoy3Whl43URD8WjbY0_WphaGMJIw5tYI955SnASnLP62P54aCqNHvquLjCKGi9Bbi-xop76xtDC9oQ7WVW02a7ssLPPNea5og-MqNE6GT9fyRr-y99EQXV1lcmpd51FoEhnyhSDT3Y8Sy3aY1Ri4gNcL8IJv7vnmRPbhVAquahHCmuxE27O2w6oLDXfE0PzpVCGBI2potEgYIfAwP55yYrujwqDJqgnJBce9DPp2eZC9TlAoWFVqOWd7qIX63JBCOxuSh8ML9Ny0vXCSOdFaB7xxQjTBghk8c86QdwogI0K2F7pZd4QZRs3TAFvXGBwxajbUAYY7nnYTTmJIWaIGmAFz3SAlpP7KTvuyKdSfZxzugXGjg=='"
      ]
     },
     "execution_count": 5,
     "metadata": {},
     "output_type": "execute_result"
    }
   ],
   "source": [
    "encrypted_vc"
   ]
  },
  {
   "cell_type": "code",
   "execution_count": 6,
   "id": "150c9b59-4c0f-4211-b864-ad5b25369687",
   "metadata": {
    "tags": []
   },
   "outputs": [],
   "source": [
    "test = json.dumps(student_info)"
   ]
  },
  {
   "cell_type": "code",
   "execution_count": 7,
   "id": "5d498506-c5bd-466c-b057-73d42106d089",
   "metadata": {
    "tags": []
   },
   "outputs": [],
   "source": [
    "qr = qrcode.QRCode(\n",
    "    version=1,\n",
    "    error_correction=qrcode.constants.ERROR_CORRECT_L,\n",
    "    box_size=10,\n",
    "    border=4,\n",
    ")\n",
    "qr.add_data(encrypted_vc)\n",
    "qr.make(fit=True)\n",
    "img = qr.make_image(fill_color=\"black\", back_color=\"white\")\n",
    "img.save(\"test/did_qr_code.png\")  # Saving the QR code to a file"
   ]
  },
  {
   "cell_type": "code",
   "execution_count": 8,
   "id": "4a0ac3d8-0cd2-4ca7-9cbc-033027785970",
   "metadata": {
    "tags": []
   },
   "outputs": [
    {
     "name": "stdout",
     "output_type": "stream",
     "text": [
      "QR code generated and saved as did_qr_code.png\n"
     ]
    }
   ],
   "source": [
    "# Generate QR Code for the DID\n",
    "qr_code_message = generate_qr_code(encrypted_vc)\n",
    "print(qr_code_message)"
   ]
  },
  {
   "cell_type": "code",
   "execution_count": 9,
   "id": "f0dfb9e6-45d2-4a0e-b606-f959f3d7a31a",
   "metadata": {
    "tags": []
   },
   "outputs": [],
   "source": [
    "from cryptography.fernet import Fernet\n",
    "\n",
    "def verify_credential(encrypted_credential, key):\n",
    "    try:\n",
    "        f = Fernet(key)\n",
    "        decrypted_data = f.decrypt(encrypted_credential).decode()\n",
    "        credential = json.loads(decrypted_data)\n",
    "        \n",
    "        # Check for validity, integrity, authenticity\n",
    "        if verify_signature(credential):\n",
    "            print(\"Credential is valid and authentic.\")\n",
    "            return credential\n",
    "        else:\n",
    "            print(\"Invalid signature. Credential could be tampered with.\")\n",
    "    except Exception as e:\n",
    "        print(f\"Error during verification: {str(e)}\")\n",
    "\n",
    "def verify_signature(credential):\n",
    "    # Dummy function for signature verification\n",
    "    return True  # In real implementation, you would check the digital signature here\n",
    "\n",
    "# Example usage:\n",
    "# Assume `encrypted_credential` is what you retrieved and decrypted from the database after scanning the QR\n",
    "# `key` is the Fernet key used for decryption\n",
    "# decrypted_credential = verify_credential(encrypted_credential, key)\n"
   ]
  },
  {
   "cell_type": "code",
   "execution_count": null,
   "id": "ebf84124-f04b-47dd-9a5f-5ba2377edfb3",
   "metadata": {},
   "outputs": [],
   "source": []
  },
  {
   "cell_type": "code",
   "execution_count": null,
   "id": "67f9ce99-251b-4180-9add-ee61afadeaf4",
   "metadata": {},
   "outputs": [],
   "source": []
  },
  {
   "cell_type": "code",
   "execution_count": null,
   "id": "3e62d39f-6efb-445f-b526-971a2d0256e9",
   "metadata": {},
   "outputs": [],
   "source": []
  },
  {
   "cell_type": "markdown",
   "id": "3df66bf0-6702-470f-b172-b9110a6c0f21",
   "metadata": {},
   "source": [
    "### Reading qr code"
   ]
  },
  {
   "cell_type": "code",
   "execution_count": 10,
   "id": "38e011d4-941a-47eb-9b19-5417fbebd069",
   "metadata": {
    "tags": []
   },
   "outputs": [],
   "source": [
    "# !pip install pillow"
   ]
  },
  {
   "cell_type": "code",
   "execution_count": 11,
   "id": "728528f7-be75-42b1-8051-2ddeb75cb2aa",
   "metadata": {
    "tags": []
   },
   "outputs": [],
   "source": [
    "# !pip install opencv-python"
   ]
  },
  {
   "cell_type": "code",
   "execution_count": 12,
   "id": "71605d54-0229-47bc-a4c2-9ce94f6f60b8",
   "metadata": {
    "tags": []
   },
   "outputs": [],
   "source": [
    "# !pip install pyzbar"
   ]
  },
  {
   "cell_type": "code",
   "execution_count": 13,
   "id": "78d1fdac-54d6-4bf3-855b-a34c26ac646b",
   "metadata": {
    "tags": []
   },
   "outputs": [],
   "source": [
    "import cv2\n",
    "from pyzbar import pyzbar"
   ]
  },
  {
   "cell_type": "code",
   "execution_count": 14,
   "id": "a54391b9-0db3-450b-a9e0-63b503433a5a",
   "metadata": {
    "tags": []
   },
   "outputs": [],
   "source": [
    "def read_barcodes(frame):\n",
    "    barcodes = pyzbar.decode(frame)\n",
    "    for barcode in barcodes:\n",
    "        x, y , w, h = barcode.rect\n",
    "        #1\n",
    "        barcode_info = barcode.data.decode('utf-8')\n",
    "        cv2.rectangle(frame, (x, y),(x+w, y+h), (0, 255, 0), 2)\n",
    "        \n",
    "        #2\n",
    "        font = cv2.FONT_HERSHEY_DUPLEX\n",
    "        cv2.putText(frame, barcode_info, (x + 6, y - 6), font, 2.0, (255, 255, 255), 1)\n",
    "        #3\n",
    "        with open(\"barcode_result.txt\", mode ='w') as file:\n",
    "            file.write(\"Recognized Barcode:\" + barcode_info)\n",
    "    return frame"
   ]
  },
  {
   "cell_type": "code",
   "execution_count": 19,
   "id": "b74a22e4-ccc5-4b62-8318-8b484526f8d9",
   "metadata": {
    "tags": []
   },
   "outputs": [],
   "source": [
    "trial_img= cv2.imread('test/did_qr_code.png')"
   ]
  },
  {
   "cell_type": "code",
   "execution_count": 20,
   "id": "38c64955-4aaf-46e6-9b43-b2c301ad6424",
   "metadata": {
    "tags": []
   },
   "outputs": [],
   "source": [
    "qcd = cv2.QRCodeDetector()"
   ]
  },
  {
   "cell_type": "code",
   "execution_count": 22,
   "id": "f5ec2bf4-e9ae-4272-8def-b58f006db5d9",
   "metadata": {
    "tags": []
   },
   "outputs": [],
   "source": [
    "retval, decoded_info, points, straight_qrcode = qcd.detectAndDecodeMulti(trial_img)"
   ]
  },
  {
   "cell_type": "code",
   "execution_count": 23,
   "id": "e430c77b-1ebc-47bd-ab51-82179a446512",
   "metadata": {
    "tags": []
   },
   "outputs": [
    {
     "data": {
      "text/plain": [
       "True"
      ]
     },
     "execution_count": 23,
     "metadata": {},
     "output_type": "execute_result"
    }
   ],
   "source": [
    "retval"
   ]
  },
  {
   "cell_type": "code",
   "execution_count": 24,
   "id": "0ba9d45d-23ff-401d-ac0d-5293c340c36b",
   "metadata": {
    "tags": []
   },
   "outputs": [
    {
     "data": {
      "text/plain": [
       "('',)"
      ]
     },
     "execution_count": 24,
     "metadata": {},
     "output_type": "execute_result"
    }
   ],
   "source": [
    "decoded_info"
   ]
  },
  {
   "cell_type": "code",
   "execution_count": null,
   "id": "10960987-8e26-4c86-94eb-8e4e8d69c381",
   "metadata": {},
   "outputs": [],
   "source": []
  }
 ],
 "metadata": {
  "kernelspec": {
   "display_name": "Python 3 (ipykernel)",
   "language": "python",
   "name": "python3"
  },
  "language_info": {
   "codemirror_mode": {
    "name": "ipython",
    "version": 3
   },
   "file_extension": ".py",
   "mimetype": "text/x-python",
   "name": "python",
   "nbconvert_exporter": "python",
   "pygments_lexer": "ipython3",
   "version": "3.11.5"
  }
 },
 "nbformat": 4,
 "nbformat_minor": 5
}
